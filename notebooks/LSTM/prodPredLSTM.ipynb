{
 "cells": [
  {
   "cell_type": "code",
   "execution_count": 1,
   "metadata": {
    "collapsed": true
   },
   "outputs": [],
   "source": [
    "import json\n",
    "import requests\n",
    "from keras.models import Sequential\n",
    "from keras.layers import Activation, Dense, Dropout, LSTM\n",
    "import matplotlib.pyplot as plt\n",
    "import numpy as np\n",
    "import pandas as pd\n",
    "import seaborn as sns\n",
    "from sklearn.metrics import mean_absolute_error\n",
    "%matplotlib inline"
   ]
  },
  {
   "cell_type": "code",
   "execution_count": 32,
   "outputs": [
    {
     "name": "stderr",
     "output_type": "stream",
     "text": [
      "D:\\anaconda3\\envs\\v-env\\lib\\site-packages\\IPython\\core\\interactiveshell.py:3417: DtypeWarning: Columns (13,14) have mixed types.Specify dtype option on import or set low_memory=False.\n",
      "  exec(code_obj, self.user_global_ns, self.user_ns)\n"
     ]
    },
    {
     "data": {
      "text/plain": "                      Horodate              Région  Code région  \\\n0    2021-12-31T23:30:00+01:00  Nouvelle Aquitaine           75   \n1    2021-12-31T23:30:00+01:00  Nouvelle Aquitaine           75   \n2    2021-12-31T23:30:00+01:00  Nouvelle Aquitaine           75   \n3    2021-12-31T23:30:00+01:00  Nouvelle Aquitaine           75   \n4    2021-12-31T23:30:00+01:00  Nouvelle Aquitaine           75   \n..                         ...                 ...          ...   \n995  2021-12-29T09:30:00+01:00  Nouvelle Aquitaine           75   \n996  2021-12-29T09:30:00+01:00  Nouvelle Aquitaine           75   \n997  2021-12-29T09:30:00+01:00  Nouvelle Aquitaine           75   \n998  2021-12-29T09:30:00+01:00  Nouvelle Aquitaine           75   \n999  2021-12-29T09:30:00+01:00  Nouvelle Aquitaine           75   \n\n     Plage de puissance injection Filière de production  Nb points injection  \\\n0               P3 : ]9 - 100] kW          F5 : Solaire                 6625   \n1          P6 : ]1000 - 12000] kW          F5 : Solaire                  272   \n2                 P2 : ]3 - 9] kW          F5 : Solaire                18491   \n3             P4 : ]100 - 250] kW          F5 : Solaire                 1379   \n4                 P7 : > 12000 kW          F5 : Solaire                   14   \n..                            ...                   ...                  ...   \n995             P3 : ]9 - 100] kW          F5 : Solaire                 6608   \n996               P1 : ]0 - 3] kW          F5 : Solaire                42924   \n997           P4 : ]100 - 250] kW          F5 : Solaire                 1378   \n998               P7 : > 12000 kW          F5 : Solaire                   14   \n999  P0 : Total toutes puissances          F5 : Solaire                69752   \n\n     Total énergie injectée (Wh)  Courbe Moyenne n°1 (Wh)  \\\n0                            0.0                      NaN   \n1                            0.0                      0.0   \n2                            0.0                      NaN   \n3                            0.0                      0.0   \n4                            0.0                      0.0   \n..                           ...                      ...   \n995                    7712994.0                      NaN   \n996                    1273208.0                      NaN   \n997                    2583480.0                   2130.0   \n998                    2719000.0                 268166.0   \n999                   33464030.0                      NaN   \n\n    Indice représentativité Courbe n°1 (%)  Courbe Moyenne n°2 (Wh)  \\\n0                                        S                      NaN   \n1                                       49                      0.0   \n2                                        S                      NaN   \n3                                       49                      0.0   \n4                                       50                      0.0   \n..                                     ...                      ...   \n995                                      S                      NaN   \n996                                      S                      NaN   \n997                                     49                   1529.0   \n998                                     50                 120261.0   \n999                                      S                      NaN   \n\n    Indice représentativité Courbe n°2 (%)  Courbe Moyenne n°1 + n°2 (Wh)  \\\n0                                        S                            NaN   \n1                                       50                            0.0   \n2                                        S                            NaN   \n3                                       50                            0.0   \n4                                       50                            0.0   \n..                                     ...                            ...   \n995                                      S                            NaN   \n996                                      S                            NaN   \n997                                     50                         1828.0   \n998                                     50                       194214.0   \n999                                      S                            NaN   \n\n    Indice représentativité Courbe n°1 + n°2 (%) Jour max du mois (0/1)  \\\n0                                              S                      S   \n1                                             99                      0   \n2                                              S                      S   \n3                                            100                      0   \n4                                            100                      0   \n..                                           ...                    ...   \n995                                            S                      S   \n996                                            S                      S   \n997                                          100                      0   \n998                                          100                      0   \n999                                            S                      S   \n\n    Semaine max du mois (0/1)  \n0                           S  \n1                           0  \n2                           S  \n3                           0  \n4                           0  \n..                        ...  \n995                         S  \n996                         S  \n997                         0  \n998                         0  \n999                         S  \n\n[1000 rows x 15 columns]",
      "text/html": "<div>\n<style scoped>\n    .dataframe tbody tr th:only-of-type {\n        vertical-align: middle;\n    }\n\n    .dataframe tbody tr th {\n        vertical-align: top;\n    }\n\n    .dataframe thead th {\n        text-align: right;\n    }\n</style>\n<table border=\"1\" class=\"dataframe\">\n  <thead>\n    <tr style=\"text-align: right;\">\n      <th></th>\n      <th>Horodate</th>\n      <th>Région</th>\n      <th>Code région</th>\n      <th>Plage de puissance injection</th>\n      <th>Filière de production</th>\n      <th>Nb points injection</th>\n      <th>Total énergie injectée (Wh)</th>\n      <th>Courbe Moyenne n°1 (Wh)</th>\n      <th>Indice représentativité Courbe n°1 (%)</th>\n      <th>Courbe Moyenne n°2 (Wh)</th>\n      <th>Indice représentativité Courbe n°2 (%)</th>\n      <th>Courbe Moyenne n°1 + n°2 (Wh)</th>\n      <th>Indice représentativité Courbe n°1 + n°2 (%)</th>\n      <th>Jour max du mois (0/1)</th>\n      <th>Semaine max du mois (0/1)</th>\n    </tr>\n  </thead>\n  <tbody>\n    <tr>\n      <th>0</th>\n      <td>2021-12-31T23:30:00+01:00</td>\n      <td>Nouvelle Aquitaine</td>\n      <td>75</td>\n      <td>P3 : ]9 - 100] kW</td>\n      <td>F5 : Solaire</td>\n      <td>6625</td>\n      <td>0.0</td>\n      <td>NaN</td>\n      <td>S</td>\n      <td>NaN</td>\n      <td>S</td>\n      <td>NaN</td>\n      <td>S</td>\n      <td>S</td>\n      <td>S</td>\n    </tr>\n    <tr>\n      <th>1</th>\n      <td>2021-12-31T23:30:00+01:00</td>\n      <td>Nouvelle Aquitaine</td>\n      <td>75</td>\n      <td>P6 : ]1000 - 12000] kW</td>\n      <td>F5 : Solaire</td>\n      <td>272</td>\n      <td>0.0</td>\n      <td>0.0</td>\n      <td>49</td>\n      <td>0.0</td>\n      <td>50</td>\n      <td>0.0</td>\n      <td>99</td>\n      <td>0</td>\n      <td>0</td>\n    </tr>\n    <tr>\n      <th>2</th>\n      <td>2021-12-31T23:30:00+01:00</td>\n      <td>Nouvelle Aquitaine</td>\n      <td>75</td>\n      <td>P2 : ]3 - 9] kW</td>\n      <td>F5 : Solaire</td>\n      <td>18491</td>\n      <td>0.0</td>\n      <td>NaN</td>\n      <td>S</td>\n      <td>NaN</td>\n      <td>S</td>\n      <td>NaN</td>\n      <td>S</td>\n      <td>S</td>\n      <td>S</td>\n    </tr>\n    <tr>\n      <th>3</th>\n      <td>2021-12-31T23:30:00+01:00</td>\n      <td>Nouvelle Aquitaine</td>\n      <td>75</td>\n      <td>P4 : ]100 - 250] kW</td>\n      <td>F5 : Solaire</td>\n      <td>1379</td>\n      <td>0.0</td>\n      <td>0.0</td>\n      <td>49</td>\n      <td>0.0</td>\n      <td>50</td>\n      <td>0.0</td>\n      <td>100</td>\n      <td>0</td>\n      <td>0</td>\n    </tr>\n    <tr>\n      <th>4</th>\n      <td>2021-12-31T23:30:00+01:00</td>\n      <td>Nouvelle Aquitaine</td>\n      <td>75</td>\n      <td>P7 : &gt; 12000 kW</td>\n      <td>F5 : Solaire</td>\n      <td>14</td>\n      <td>0.0</td>\n      <td>0.0</td>\n      <td>50</td>\n      <td>0.0</td>\n      <td>50</td>\n      <td>0.0</td>\n      <td>100</td>\n      <td>0</td>\n      <td>0</td>\n    </tr>\n    <tr>\n      <th>...</th>\n      <td>...</td>\n      <td>...</td>\n      <td>...</td>\n      <td>...</td>\n      <td>...</td>\n      <td>...</td>\n      <td>...</td>\n      <td>...</td>\n      <td>...</td>\n      <td>...</td>\n      <td>...</td>\n      <td>...</td>\n      <td>...</td>\n      <td>...</td>\n      <td>...</td>\n    </tr>\n    <tr>\n      <th>995</th>\n      <td>2021-12-29T09:30:00+01:00</td>\n      <td>Nouvelle Aquitaine</td>\n      <td>75</td>\n      <td>P3 : ]9 - 100] kW</td>\n      <td>F5 : Solaire</td>\n      <td>6608</td>\n      <td>7712994.0</td>\n      <td>NaN</td>\n      <td>S</td>\n      <td>NaN</td>\n      <td>S</td>\n      <td>NaN</td>\n      <td>S</td>\n      <td>S</td>\n      <td>S</td>\n    </tr>\n    <tr>\n      <th>996</th>\n      <td>2021-12-29T09:30:00+01:00</td>\n      <td>Nouvelle Aquitaine</td>\n      <td>75</td>\n      <td>P1 : ]0 - 3] kW</td>\n      <td>F5 : Solaire</td>\n      <td>42924</td>\n      <td>1273208.0</td>\n      <td>NaN</td>\n      <td>S</td>\n      <td>NaN</td>\n      <td>S</td>\n      <td>NaN</td>\n      <td>S</td>\n      <td>S</td>\n      <td>S</td>\n    </tr>\n    <tr>\n      <th>997</th>\n      <td>2021-12-29T09:30:00+01:00</td>\n      <td>Nouvelle Aquitaine</td>\n      <td>75</td>\n      <td>P4 : ]100 - 250] kW</td>\n      <td>F5 : Solaire</td>\n      <td>1378</td>\n      <td>2583480.0</td>\n      <td>2130.0</td>\n      <td>49</td>\n      <td>1529.0</td>\n      <td>50</td>\n      <td>1828.0</td>\n      <td>100</td>\n      <td>0</td>\n      <td>0</td>\n    </tr>\n    <tr>\n      <th>998</th>\n      <td>2021-12-29T09:30:00+01:00</td>\n      <td>Nouvelle Aquitaine</td>\n      <td>75</td>\n      <td>P7 : &gt; 12000 kW</td>\n      <td>F5 : Solaire</td>\n      <td>14</td>\n      <td>2719000.0</td>\n      <td>268166.0</td>\n      <td>50</td>\n      <td>120261.0</td>\n      <td>50</td>\n      <td>194214.0</td>\n      <td>100</td>\n      <td>0</td>\n      <td>0</td>\n    </tr>\n    <tr>\n      <th>999</th>\n      <td>2021-12-29T09:30:00+01:00</td>\n      <td>Nouvelle Aquitaine</td>\n      <td>75</td>\n      <td>P0 : Total toutes puissances</td>\n      <td>F5 : Solaire</td>\n      <td>69752</td>\n      <td>33464030.0</td>\n      <td>NaN</td>\n      <td>S</td>\n      <td>NaN</td>\n      <td>S</td>\n      <td>NaN</td>\n      <td>S</td>\n      <td>S</td>\n      <td>S</td>\n    </tr>\n  </tbody>\n</table>\n<p>1000 rows × 15 columns</p>\n</div>"
     },
     "execution_count": 32,
     "metadata": {},
     "output_type": "execute_result"
    }
   ],
   "source": [
    "hist = pd.read_csv('./../datasets/prod-region.csv', sep=';')\n",
    "hist.head(1000)"
   ],
   "metadata": {
    "collapsed": false,
    "pycharm": {
     "name": "#%%\n"
    }
   }
  },
  {
   "cell_type": "code",
   "execution_count": 33,
   "outputs": [
    {
     "data": {
      "text/plain": "               Horodate  Courbe Moyenne n°1 + n°2 (Wh)\n1   2021-12-31 22:30:00                            0.0\n3   2021-12-31 22:30:00                            0.0\n4   2021-12-31 22:30:00                            0.0\n5   2021-12-31 22:30:00                            0.0\n10  2021-12-31 22:00:00                            0.0\n..                  ...                            ...\n230 2021-12-31 08:30:00                        29789.0\n231 2021-12-31 08:30:00                       392695.0\n234 2021-12-31 08:00:00                         6562.0\n236 2021-12-31 08:00:00                       398285.0\n239 2021-12-31 08:00:00                       148922.0\n\n[100 rows x 2 columns]",
      "text/html": "<div>\n<style scoped>\n    .dataframe tbody tr th:only-of-type {\n        vertical-align: middle;\n    }\n\n    .dataframe tbody tr th {\n        vertical-align: top;\n    }\n\n    .dataframe thead th {\n        text-align: right;\n    }\n</style>\n<table border=\"1\" class=\"dataframe\">\n  <thead>\n    <tr style=\"text-align: right;\">\n      <th></th>\n      <th>Horodate</th>\n      <th>Courbe Moyenne n°1 + n°2 (Wh)</th>\n    </tr>\n  </thead>\n  <tbody>\n    <tr>\n      <th>1</th>\n      <td>2021-12-31 22:30:00</td>\n      <td>0.0</td>\n    </tr>\n    <tr>\n      <th>3</th>\n      <td>2021-12-31 22:30:00</td>\n      <td>0.0</td>\n    </tr>\n    <tr>\n      <th>4</th>\n      <td>2021-12-31 22:30:00</td>\n      <td>0.0</td>\n    </tr>\n    <tr>\n      <th>5</th>\n      <td>2021-12-31 22:30:00</td>\n      <td>0.0</td>\n    </tr>\n    <tr>\n      <th>10</th>\n      <td>2021-12-31 22:00:00</td>\n      <td>0.0</td>\n    </tr>\n    <tr>\n      <th>...</th>\n      <td>...</td>\n      <td>...</td>\n    </tr>\n    <tr>\n      <th>230</th>\n      <td>2021-12-31 08:30:00</td>\n      <td>29789.0</td>\n    </tr>\n    <tr>\n      <th>231</th>\n      <td>2021-12-31 08:30:00</td>\n      <td>392695.0</td>\n    </tr>\n    <tr>\n      <th>234</th>\n      <td>2021-12-31 08:00:00</td>\n      <td>6562.0</td>\n    </tr>\n    <tr>\n      <th>236</th>\n      <td>2021-12-31 08:00:00</td>\n      <td>398285.0</td>\n    </tr>\n    <tr>\n      <th>239</th>\n      <td>2021-12-31 08:00:00</td>\n      <td>148922.0</td>\n    </tr>\n  </tbody>\n</table>\n<p>100 rows × 2 columns</p>\n</div>"
     },
     "execution_count": 33,
     "metadata": {},
     "output_type": "execute_result"
    }
   ],
   "source": [
    "#reduce information\n",
    "hist.drop(['Région', 'Code région', 'Plage de puissance injection', 'Filière de production', 'Nb points injection',\n",
    "         'Total énergie injectée (Wh)', 'Courbe Moyenne n°1 (Wh)', 'Indice représentativité Courbe n°1 (%)',\n",
    "         'Courbe Moyenne n°2 (Wh)', 'Indice représentativité Courbe n°2 (%)',\n",
    "         'Indice représentativité Courbe n°1 + n°2 (%)', 'Jour max du mois (0/1)', 'Semaine max du mois (0/1)'],\n",
    "        axis='columns', inplace=True)\n",
    "hist.dropna(inplace=True)\n",
    "hist['Horodate'] = pd.to_datetime(hist['Horodate'].values, utc=True)\n",
    "hist['Horodate'] = hist['Horodate'].dt.tz_localize(None)\n",
    "hist = hist.loc[hist['Horodate'] > '2020-06-01']\n",
    "hist.head(100)"
   ],
   "metadata": {
    "collapsed": false,
    "pycharm": {
     "name": "#%%\n"
    }
   }
  },
  {
   "cell_type": "code",
   "execution_count": 34,
   "outputs": [
    {
     "data": {
      "text/plain": "                     Courbe Moyenne n°1 + n°2 (Wh)\nHorodate                                          \n2020-06-01 00:30:00                            0.0\n2020-06-01 01:00:00                            0.0\n2020-06-01 01:30:00                            0.0\n2020-06-01 02:00:00                            0.0\n2020-06-01 02:30:00                            0.0\n...                                            ...\n2020-06-21 18:00:00                       263725.0\n2020-06-21 18:30:00                       129105.0\n2020-06-21 19:00:00                        43523.0\n2020-06-21 19:30:00                         3246.0\n2020-06-21 20:00:00                          406.0\n\n[1000 rows x 1 columns]",
      "text/html": "<div>\n<style scoped>\n    .dataframe tbody tr th:only-of-type {\n        vertical-align: middle;\n    }\n\n    .dataframe tbody tr th {\n        vertical-align: top;\n    }\n\n    .dataframe thead th {\n        text-align: right;\n    }\n</style>\n<table border=\"1\" class=\"dataframe\">\n  <thead>\n    <tr style=\"text-align: right;\">\n      <th></th>\n      <th>Courbe Moyenne n°1 + n°2 (Wh)</th>\n    </tr>\n    <tr>\n      <th>Horodate</th>\n      <th></th>\n    </tr>\n  </thead>\n  <tbody>\n    <tr>\n      <th>2020-06-01 00:30:00</th>\n      <td>0.0</td>\n    </tr>\n    <tr>\n      <th>2020-06-01 01:00:00</th>\n      <td>0.0</td>\n    </tr>\n    <tr>\n      <th>2020-06-01 01:30:00</th>\n      <td>0.0</td>\n    </tr>\n    <tr>\n      <th>2020-06-01 02:00:00</th>\n      <td>0.0</td>\n    </tr>\n    <tr>\n      <th>2020-06-01 02:30:00</th>\n      <td>0.0</td>\n    </tr>\n    <tr>\n      <th>...</th>\n      <td>...</td>\n    </tr>\n    <tr>\n      <th>2020-06-21 18:00:00</th>\n      <td>263725.0</td>\n    </tr>\n    <tr>\n      <th>2020-06-21 18:30:00</th>\n      <td>129105.0</td>\n    </tr>\n    <tr>\n      <th>2020-06-21 19:00:00</th>\n      <td>43523.0</td>\n    </tr>\n    <tr>\n      <th>2020-06-21 19:30:00</th>\n      <td>3246.0</td>\n    </tr>\n    <tr>\n      <th>2020-06-21 20:00:00</th>\n      <td>406.0</td>\n    </tr>\n  </tbody>\n</table>\n<p>1000 rows × 1 columns</p>\n</div>"
     },
     "execution_count": 34,
     "metadata": {},
     "output_type": "execute_result"
    }
   ],
   "source": [
    "hist = hist.groupby('Horodate').sum()\n",
    "target_col = 'Courbe Moyenne n°1 + n°2 (Wh)'\n",
    "hist.head(1000)"
   ],
   "metadata": {
    "collapsed": false,
    "pycharm": {
     "name": "#%%\n"
    }
   }
  },
  {
   "cell_type": "code",
   "execution_count": 35,
   "outputs": [],
   "source": [
    "def train_test_split(df, test_size=0.2):\n",
    "    split_row = len(df) - int(test_size * len(df))\n",
    "    train_data = df.iloc[:split_row]\n",
    "    test_data = df.iloc[split_row:]\n",
    "    return train_data, test_data"
   ],
   "metadata": {
    "collapsed": false,
    "pycharm": {
     "name": "#%%\n"
    }
   }
  },
  {
   "cell_type": "code",
   "execution_count": 36,
   "outputs": [],
   "source": [
    "train, test = train_test_split(hist, test_size=0.05)"
   ],
   "metadata": {
    "collapsed": false,
    "pycharm": {
     "name": "#%%\n"
    }
   }
  },
  {
   "cell_type": "code",
   "execution_count": 37,
   "outputs": [],
   "source": [
    "def line_plot(line1, line2, label1=None, label2=None, title='', lw=2):\n",
    "    fig, ax = plt.subplots(1, figsize=(13, 7))\n",
    "    ax.plot(line1, label=label1, linewidth=lw)\n",
    "    ax.plot(line2, label=label2, linewidth=lw)\n",
    "    ax.set_ylabel('Production [Wh]', fontsize=14)\n",
    "    ax.set_title(title, fontsize=16)\n",
    "    ax.legend(loc='best', fontsize=16)"
   ],
   "metadata": {
    "collapsed": false,
    "pycharm": {
     "name": "#%%\n"
    }
   }
  },
  {
   "cell_type": "code",
   "execution_count": 38,
   "outputs": [
    {
     "data": {
      "text/plain": "<Figure size 936x504 with 1 Axes>",
      "image/png": "[encoded data removed]"
     },
     "metadata": {
      "needs_background": "light"
     },
     "output_type": "display_data"
    }
   ],
   "source": [
    "line_plot(train[target_col], test[target_col], 'training', 'test', title='')"
   ],
   "metadata": {
    "collapsed": false,
    "pycharm": {
     "name": "#%%\n"
    }
   }
  },
  {
   "cell_type": "code",
   "execution_count": 39,
   "outputs": [],
   "source": [
    "def normalise_zero_base(df):\n",
    "    return df / df.iloc[0] - 1\n",
    "\n",
    "def normalise_min_max(df):\n",
    "    return (df - df.min()) / (df.max() - df.min())"
   ],
   "metadata": {
    "collapsed": false,
    "pycharm": {
     "name": "#%%\n"
    }
   }
  },
  {
   "cell_type": "code",
   "execution_count": 40,
   "outputs": [],
   "source": [
    "def extract_window_data(df, window_len=5, zero_base=True):\n",
    "    window_data = []\n",
    "    for idx in range(len(df) - window_len):\n",
    "        tmp = df[idx: (idx + window_len)].copy()\n",
    "        if zero_base:\n",
    "            tmp = normalise_zero_base(tmp)\n",
    "        window_data.append(tmp.values)\n",
    "    return np.array(window_data)"
   ],
   "metadata": {
    "collapsed": false,
    "pycharm": {
     "name": "#%%\n"
    }
   }
  },
  {
   "cell_type": "code",
   "execution_count": 41,
   "outputs": [],
   "source": [
    "def prepare_data(df, target_col, window_len=10, zero_base=True, test_size=0.2):\n",
    "    train_data, test_data = train_test_split(df, test_size=test_size)\n",
    "    X_train = extract_window_data(train_data, window_len, zero_base)\n",
    "    X_test = extract_window_data(test_data, window_len, zero_base)\n",
    "    y_train = train_data[target_col][window_len:].values\n",
    "    y_test = test_data[target_col][window_len:].values\n",
    "    if zero_base:\n",
    "        y_train = y_train / train_data[target_col][:-window_len].values - 1\n",
    "        y_test = y_test / test_data[target_col][:-window_len].values - 1\n",
    "\n",
    "    return train_data, test_data, X_train, X_test, y_train, y_test"
   ],
   "metadata": {
    "collapsed": false,
    "pycharm": {
     "name": "#%%\n"
    }
   }
  },
  {
   "cell_type": "code",
   "execution_count": 82,
   "outputs": [],
   "source": [
    "def build_lstm_model(input_data, output_size, neurons=128, activ_func='linear',\n",
    "                     dropout=0.2, loss='mse', optimizer='adam'):\n",
    "    model = Sequential()\n",
    "    #model.add(LSTM(neurons, input_shape=(input_data.shape[1], input_data.shape[2])))\n",
    "    model.add(LSTM(neurons, return_sequences=True, input_shape=(input_data.shape[1], input_data.shape[2])))\n",
    "    model.add(Dropout(dropout))\n",
    "\n",
    "    model.add(LSTM(neurons//2, return_sequences=True, input_shape=(input_data.shape[1], input_data.shape[2])))\n",
    "    model.add(Dropout(dropout))\n",
    "\n",
    "    model.add(LSTM(neurons//2, return_sequences=True, input_shape=(input_data.shape[1], input_data.shape[2])))\n",
    "    model.add(Dropout(dropout))\n",
    "\n",
    "    model.add(LSTM(neurons//2, input_shape=(input_data.shape[1], input_data.shape[2])))\n",
    "    model.add(Dropout(dropout))\n",
    "\n",
    "    model.add(Dense(units=output_size))\n",
    "    model.add(Activation(activ_func))\n",
    "\n",
    "    model.compile(loss=loss, optimizer=optimizer)\n",
    "    return model"
   ],
   "metadata": {
    "collapsed": false,
    "pycharm": {
     "name": "#%%\n"
    }
   }
  },
  {
   "cell_type": "code",
   "execution_count": 83,
   "outputs": [],
   "source": [
    "np.random.seed(42)\n",
    "#window_len = 5\n",
    "window_len = 24\n",
    "test_size = 0.2\n",
    "zero_base = False\n",
    "lstm_neurons = 100\n",
    "epochs = 100\n",
    "batch_size = 32\n",
    "loss = 'mse'\n",
    "dropout = 0.2\n",
    "optimizer = 'adam'"
   ],
   "metadata": {
    "collapsed": false,
    "pycharm": {
     "name": "#%%\n"
    }
   }
  },
  {
   "cell_type": "code",
   "execution_count": 84,
   "outputs": [],
   "source": [
    "train, test, X_train, X_test, y_train, y_test = prepare_data(\n",
    "    hist, target_col, window_len=window_len, zero_base=zero_base, test_size=test_size)"
   ],
   "metadata": {
    "collapsed": false,
    "pycharm": {
     "name": "#%%\n"
    }
   }
  },
  {
   "cell_type": "code",
   "execution_count": 85,
   "outputs": [
    {
     "data": {
      "text/plain": "array([[[      0.],\n        [      0.],\n        [      0.],\n        ...,\n        [3380859.],\n        [2772143.],\n        [1865631.]],\n\n       [[      0.],\n        [      0.],\n        [      0.],\n        ...,\n        [2772143.],\n        [1865631.],\n        [1926614.]],\n\n       [[      0.],\n        [      0.],\n        [      0.],\n        ...,\n        [1865631.],\n        [1926614.],\n        [4226243.]],\n\n       ...,\n\n       [[7679506.],\n        [7590662.],\n        [7379783.],\n        ...,\n        [      0.],\n        [      0.],\n        [      0.]],\n\n       [[7590662.],\n        [7379783.],\n        [7051297.],\n        ...,\n        [      0.],\n        [      0.],\n        [      0.]],\n\n       [[7379783.],\n        [7051297.],\n        [6665193.],\n        ...,\n        [      0.],\n        [      0.],\n        [      0.]]])"
     },
     "execution_count": 85,
     "metadata": {},
     "output_type": "execute_result"
    }
   ],
   "source": [
    "X_train"
   ],
   "metadata": {
    "collapsed": false,
    "pycharm": {
     "name": "#%%\n"
    }
   }
  },
  {
   "cell_type": "code",
   "execution_count": 86,
   "outputs": [
    {
     "name": "stdout",
     "output_type": "stream",
     "text": [
      "Epoch 1/100\n",
      "WARNING:tensorflow:AutoGraph could not transform <function Model.make_train_function.<locals>.train_function at 0x000001E894818438> and will run it as-is.\n",
      "Please report this to the TensorFlow team. When filing the bug, set the verbosity to 10 (on Linux, `export AUTOGRAPH_VERBOSITY=10`) and attach the full output.\n",
      "Cause: module 'gast' has no attribute 'Constant'\n",
      "To silence this warning, decorate the function with @tf.autograph.experimental.do_not_convert\n",
      "WARNING: AutoGraph could not transform <function Model.make_train_function.<locals>.train_function at 0x000001E894818438> and will run it as-is.\n",
      "Please report this to the TensorFlow team. When filing the bug, set the verbosity to 10 (on Linux, `export AUTOGRAPH_VERBOSITY=10`) and attach the full output.\n",
      "Cause: module 'gast' has no attribute 'Constant'\n",
      "To silence this warning, decorate the function with @tf.autograph.experimental.do_not_convert\n",
      "693/694 [============================>.] - ETA: 0s - loss: 8025351913472.0000WARNING:tensorflow:AutoGraph could not transform <function Model.make_test_function.<locals>.test_function at 0x000001E885886708> and will run it as-is.\n",
      "Please report this to the TensorFlow team. When filing the bug, set the verbosity to 10 (on Linux, `export AUTOGRAPH_VERBOSITY=10`) and attach the full output.\n",
      "Cause: 'arguments' object has no attribute 'posonlyargs'\n",
      "To silence this warning, decorate the function with @tf.autograph.experimental.do_not_convert\n",
      "WARNING: AutoGraph could not transform <function Model.make_test_function.<locals>.test_function at 0x000001E885886708> and will run it as-is.\n",
      "Please report this to the TensorFlow team. When filing the bug, set the verbosity to 10 (on Linux, `export AUTOGRAPH_VERBOSITY=10`) and attach the full output.\n",
      "Cause: 'arguments' object has no attribute 'posonlyargs'\n",
      "To silence this warning, decorate the function with @tf.autograph.experimental.do_not_convert\n",
      "\n",
      "Epoch 1: val_loss improved from inf to 4600976900096.00000, saving model to model1.hdf5\n",
      "694/694 [==============================] - 30s 33ms/step - loss: 8028622422016.0000 - val_loss: 4600976900096.0000\n",
      "Epoch 2/100\n",
      "693/694 [============================>.] - ETA: 0s - loss: 8027270807552.0000\n",
      "Epoch 2: val_loss improved from 4600976900096.00000 to 4600904024064.00000, saving model to model1.hdf5\n",
      "694/694 [==============================] - 20s 29ms/step - loss: 8028515991552.0000 - val_loss: 4600904024064.0000\n",
      "Epoch 3/100\n",
      "694/694 [==============================] - ETA: 0s - loss: 8028399599616.0000\n",
      "Epoch 3: val_loss improved from 4600904024064.00000 to 4600829575168.00000, saving model to model1.hdf5\n",
      "694/694 [==============================] - 23s 33ms/step - loss: 8028399599616.0000 - val_loss: 4600829575168.0000\n",
      "Epoch 4/100\n",
      "693/694 [============================>.] - ETA: 0s - loss: 8032258359296.0000\n",
      "Epoch 4: val_loss improved from 4600829575168.00000 to 4600757747712.00000, saving model to model1.hdf5\n",
      "694/694 [==============================] - 22s 31ms/step - loss: 8028289499136.0000 - val_loss: 4600757747712.0000\n",
      "Epoch 5/100\n",
      "693/694 [============================>.] - ETA: 0s - loss: 8027413938176.0000\n",
      "Epoch 5: val_loss improved from 4600757747712.00000 to 4600683823104.00000, saving model to model1.hdf5\n",
      "694/694 [==============================] - 22s 31ms/step - loss: 8028186214400.0000 - val_loss: 4600683823104.0000\n",
      "Epoch 6/100\n",
      "693/694 [============================>.] - ETA: 0s - loss: 8028193554432.0000\n",
      "Epoch 6: val_loss improved from 4600683823104.00000 to 4600608325632.00000, saving model to model1.hdf5\n",
      "694/694 [==============================] - 22s 31ms/step - loss: 8028066676736.0000 - val_loss: 4600608325632.0000\n",
      "Epoch 7/100\n",
      "693/694 [============================>.] - ETA: 0s - loss: 8028419522560.0000\n",
      "Epoch 7: val_loss improved from 4600608325632.00000 to 4600538595328.00000, saving model to model1.hdf5\n",
      "694/694 [==============================] - 22s 32ms/step - loss: 8027958673408.0000 - val_loss: 4600538595328.0000\n",
      "Epoch 8/100\n",
      "693/694 [============================>.] - ETA: 0s - loss: 8027662450688.0000\n",
      "Epoch 8: val_loss improved from 4600538595328.00000 to 4600464670720.00000, saving model to model1.hdf5\n",
      "694/694 [==============================] - 22s 31ms/step - loss: 8027844378624.0000 - val_loss: 4600464670720.0000\n",
      "Epoch 9/100\n",
      "693/694 [============================>.] - ETA: 0s - loss: 8022075637760.0000\n",
      "Epoch 9: val_loss improved from 4600464670720.00000 to 4600391270400.00000, saving model to model1.hdf5\n",
      "694/694 [==============================] - 22s 32ms/step - loss: 8027741093888.0000 - val_loss: 4600391270400.0000\n",
      "Epoch 10/100\n",
      "693/694 [============================>.] - ETA: 0s - loss: 8023926898688.0000\n",
      "Epoch 10: val_loss improved from 4600391270400.00000 to 4600317870080.00000, saving model to model1.hdf5\n",
      "694/694 [==============================] - 22s 32ms/step - loss: 8027624177664.0000 - val_loss: 4600317870080.0000\n",
      "Epoch 11/100\n",
      "693/694 [============================>.] - ETA: 0s - loss: 8026227998720.0000\n",
      "Epoch 11: val_loss improved from 4600317870080.00000 to 4600245518336.00000, saving model to model1.hdf5\n",
      "694/694 [==============================] - 22s 31ms/step - loss: 8027516174336.0000 - val_loss: 4600245518336.0000\n",
      "Epoch 12/100\n",
      "693/694 [============================>.] - ETA: 0s - loss: 8028933324800.0000\n",
      "Epoch 12: val_loss improved from 4600245518336.00000 to 4600173690880.00000, saving model to model1.hdf5\n",
      "694/694 [==============================] - 22s 32ms/step - loss: 8027398209536.0000 - val_loss: 4600173690880.0000\n",
      "Epoch 13/100\n",
      "693/694 [============================>.] - ETA: 0s - loss: 8024872189952.0000\n",
      "Epoch 13: val_loss improved from 4600173690880.00000 to 4600099241984.00000, saving model to model1.hdf5\n",
      "694/694 [==============================] - 23s 33ms/step - loss: 8027295973376.0000 - val_loss: 4600099241984.0000\n",
      "Epoch 14/100\n",
      "693/694 [============================>.] - ETA: 0s - loss: 8031012651008.0000\n",
      "Epoch 14: val_loss improved from 4600099241984.00000 to 4600025317376.00000, saving model to model1.hdf5\n",
      "694/694 [==============================] - 22s 32ms/step - loss: 8027181154304.0000 - val_loss: 4600025317376.0000\n",
      "Epoch 15/100\n",
      "693/694 [============================>.] - ETA: 0s - loss: 8027388248064.0000\n",
      "Epoch 15: val_loss improved from 4600025317376.00000 to 4599951392768.00000, saving model to model1.hdf5\n",
      "694/694 [==============================] - 23s 33ms/step - loss: 8027072102400.0000 - val_loss: 4599951392768.0000\n",
      "Epoch 16/100\n",
      "694/694 [==============================] - ETA: 0s - loss: 8026959904768.0000\n",
      "Epoch 16: val_loss improved from 4599951392768.00000 to 4599879041024.00000, saving model to model1.hdf5\n",
      "694/694 [==============================] - 22s 32ms/step - loss: 8026959904768.0000 - val_loss: 4599879041024.0000\n",
      "Epoch 17/100\n",
      "693/694 [============================>.] - ETA: 0s - loss: 8023351230464.0000\n",
      "Epoch 17: val_loss improved from 4599879041024.00000 to 4599806164992.00000, saving model to model1.hdf5\n",
      "694/694 [==============================] - 22s 32ms/step - loss: 8026855571456.0000 - val_loss: 4599806164992.0000\n",
      "Epoch 18/100\n",
      "693/694 [============================>.] - ETA: 0s - loss: 8025422168064.0000\n",
      "Epoch 18: val_loss improved from 4599806164992.00000 to 4599732240384.00000, saving model to model1.hdf5\n",
      "694/694 [==============================] - 23s 33ms/step - loss: 8026741800960.0000 - val_loss: 4599732240384.0000\n",
      "Epoch 19/100\n",
      "694/694 [==============================] - ETA: 0s - loss: 8026624884736.0000\n",
      "Epoch 19: val_loss improved from 4599732240384.00000 to 4599660412928.00000, saving model to model1.hdf5\n",
      "694/694 [==============================] - 23s 33ms/step - loss: 8026624884736.0000 - val_loss: 4599660412928.0000\n",
      "Epoch 20/100\n",
      "693/694 [============================>.] - ETA: 0s - loss: 8021942468608.0000\n",
      "Epoch 20: val_loss improved from 4599660412928.00000 to 4599588585472.00000, saving model to model1.hdf5\n",
      "694/694 [==============================] - 23s 33ms/step - loss: 8026512687104.0000 - val_loss: 4599588585472.0000\n",
      "Epoch 21/100\n",
      "693/694 [============================>.] - ETA: 0s - loss: 8026623836160.0000\n",
      "Epoch 21: val_loss improved from 4599588585472.00000 to 4599512563712.00000, saving model to model1.hdf5\n",
      "694/694 [==============================] - 23s 33ms/step - loss: 8026410450944.0000 - val_loss: 4599512563712.0000\n",
      "Epoch 22/100\n",
      "693/694 [============================>.] - ETA: 0s - loss: 8027206320128.0000\n",
      "Epoch 22: val_loss improved from 4599512563712.00000 to 4599440211968.00000, saving model to model1.hdf5\n",
      "694/694 [==============================] - 23s 33ms/step - loss: 8026301923328.0000 - val_loss: 4599440211968.0000\n",
      "Epoch 23/100\n",
      "694/694 [==============================] - ETA: 0s - loss: 8026185531392.0000\n",
      "Epoch 23: val_loss improved from 4599440211968.00000 to 4599367335936.00000, saving model to model1.hdf5\n",
      "694/694 [==============================] - 23s 34ms/step - loss: 8026185531392.0000 - val_loss: 4599367335936.0000\n",
      "Epoch 24/100\n",
      "693/694 [============================>.] - ETA: 0s - loss: 8021665120256.0000\n",
      "Epoch 24: val_loss improved from 4599367335936.00000 to 4599294984192.00000, saving model to model1.hdf5\n",
      "694/694 [==============================] - 24s 34ms/step - loss: 8026079625216.0000 - val_loss: 4599294984192.0000\n",
      "Epoch 25/100\n",
      "693/694 [============================>.] - ETA: 0s - loss: 8027604779008.0000\n",
      "Epoch 25: val_loss improved from 4599294984192.00000 to 4599222108160.00000, saving model to model1.hdf5\n",
      "694/694 [==============================] - 24s 35ms/step - loss: 8025969000448.0000 - val_loss: 4599222108160.0000\n",
      "Epoch 26/100\n",
      "693/694 [============================>.] - ETA: 0s - loss: 8028569993216.0000\n",
      "Epoch 26: val_loss improved from 4599222108160.00000 to 4599149232128.00000, saving model to model1.hdf5\n",
      "694/694 [==============================] - 24s 34ms/step - loss: 8025856802816.0000 - val_loss: 4599149232128.0000\n",
      "Epoch 27/100\n",
      "694/694 [==============================] - ETA: 0s - loss: 8025741459456.0000\n",
      "Epoch 27: val_loss improved from 4599149232128.00000 to 4599073734656.00000, saving model to model1.hdf5\n",
      "694/694 [==============================] - 24s 34ms/step - loss: 8025741459456.0000 - val_loss: 4599073734656.0000\n",
      "Epoch 28/100\n",
      "693/694 [============================>.] - ETA: 0s - loss: 8029302947840.0000\n",
      "Epoch 28: val_loss improved from 4599073734656.00000 to 4599001907200.00000, saving model to model1.hdf5\n",
      "694/694 [==============================] - 24s 34ms/step - loss: 8025631358976.0000 - val_loss: 4599001907200.0000\n",
      "Epoch 29/100\n",
      "693/694 [============================>.] - ETA: 0s - loss: 8027839135744.0000\n",
      "Epoch 29: val_loss improved from 4599001907200.00000 to 4598928506880.00000, saving model to model1.hdf5\n",
      "694/694 [==============================] - 23s 34ms/step - loss: 8025523355648.0000 - val_loss: 4598928506880.0000\n",
      "Epoch 30/100\n",
      "694/694 [==============================] - ETA: 0s - loss: 8025416400896.0000\n",
      "Epoch 30: val_loss improved from 4598928506880.00000 to 4598855106560.00000, saving model to model1.hdf5\n",
      "694/694 [==============================] - 25s 36ms/step - loss: 8025416400896.0000 - val_loss: 4598855106560.0000\n",
      "Epoch 31/100\n",
      "694/694 [==============================] - ETA: 0s - loss: 8025305776128.0000\n",
      "Epoch 31: val_loss improved from 4598855106560.00000 to 4598782754816.00000, saving model to model1.hdf5\n",
      "694/694 [==============================] - 25s 35ms/step - loss: 8025305776128.0000 - val_loss: 4598782754816.0000\n",
      "Epoch 32/100\n",
      "693/694 [============================>.] - ETA: 0s - loss: 8023748116480.0000\n",
      "Epoch 32: val_loss improved from 4598782754816.00000 to 4598709878784.00000, saving model to model1.hdf5\n",
      "694/694 [==============================] - 24s 35ms/step - loss: 8025189384192.0000 - val_loss: 4598709878784.0000\n",
      "Epoch 33/100\n",
      "693/694 [============================>.] - ETA: 0s - loss: 8028740911104.0000\n",
      "Epoch 33: val_loss improved from 4598709878784.00000 to 4598638051328.00000, saving model to model1.hdf5\n",
      "694/694 [==============================] - 24s 35ms/step - loss: 8025080332288.0000 - val_loss: 4598638051328.0000\n",
      "Epoch 34/100\n",
      "693/694 [============================>.] - ETA: 0s - loss: 8019280134144.0000\n",
      "Epoch 34: val_loss improved from 4598638051328.00000 to 4598563078144.00000, saving model to model1.hdf5\n",
      "694/694 [==============================] - 24s 34ms/step - loss: 8024964464640.0000 - val_loss: 4598563078144.0000\n",
      "Epoch 35/100\n",
      "693/694 [============================>.] - ETA: 0s - loss: 8027859582976.0000\n",
      "Epoch 35: val_loss improved from 4598563078144.00000 to 4598489677824.00000, saving model to model1.hdf5\n",
      "694/694 [==============================] - 24s 35ms/step - loss: 8024856461312.0000 - val_loss: 4598489677824.0000\n",
      "Epoch 36/100\n",
      "693/694 [============================>.] - ETA: 0s - loss: 8022147465216.0000\n",
      "Epoch 36: val_loss improved from 4598489677824.00000 to 4598416277504.00000, saving model to model1.hdf5\n",
      "694/694 [==============================] - 24s 35ms/step - loss: 8024752128000.0000 - val_loss: 4598416277504.0000\n",
      "Epoch 37/100\n",
      "693/694 [============================>.] - ETA: 0s - loss: 8028684288000.0000\n",
      "Epoch 37: val_loss improved from 4598416277504.00000 to 4598342352896.00000, saving model to model1.hdf5\n",
      "694/694 [==============================] - 26s 38ms/step - loss: 8024634687488.0000 - val_loss: 4598342352896.0000\n",
      "Epoch 38/100\n",
      "693/694 [============================>.] - ETA: 0s - loss: 8021418704896.0000\n",
      "Epoch 38: val_loss improved from 4598342352896.00000 to 4598271049728.00000, saving model to model1.hdf5\n",
      "694/694 [==============================] - 27s 39ms/step - loss: 8024531402752.0000 - val_loss: 4598271049728.0000\n",
      "Epoch 39/100\n",
      "693/694 [============================>.] - ETA: 0s - loss: 8021974974464.0000\n",
      "Epoch 39: val_loss improved from 4598271049728.00000 to 4598196600832.00000, saving model to model1.hdf5\n",
      "694/694 [==============================] - 27s 39ms/step - loss: 8024408719360.0000 - val_loss: 4598196600832.0000\n",
      "Epoch 40/100\n",
      "694/694 [==============================] - ETA: 0s - loss: 8024307007488.0000\n",
      "Epoch 40: val_loss improved from 4598196600832.00000 to 4598124773376.00000, saving model to model1.hdf5\n",
      "694/694 [==============================] - 27s 39ms/step - loss: 8024307007488.0000 - val_loss: 4598124773376.0000\n",
      "Epoch 41/100\n",
      "693/694 [============================>.] - ETA: 0s - loss: 8027526135808.0000\n",
      "Epoch 41: val_loss improved from 4598124773376.00000 to 4598051897344.00000, saving model to model1.hdf5\n",
      "694/694 [==============================] - 27s 39ms/step - loss: 8024191139840.0000 - val_loss: 4598051897344.0000\n",
      "Epoch 42/100\n",
      "694/694 [==============================] - ETA: 0s - loss: 8024081039360.0000\n",
      "Epoch 42: val_loss improved from 4598051897344.00000 to 4597975875584.00000, saving model to model1.hdf5\n",
      "694/694 [==============================] - 27s 39ms/step - loss: 8024081039360.0000 - val_loss: 4597975875584.0000\n",
      "Epoch 43/100\n",
      "694/694 [==============================] - ETA: 0s - loss: 8023977230336.0000\n",
      "Epoch 43: val_loss improved from 4597975875584.00000 to 4597906145280.00000, saving model to model1.hdf5\n",
      "694/694 [==============================] - 27s 39ms/step - loss: 8023977230336.0000 - val_loss: 4597906145280.0000\n",
      "Epoch 44/100\n",
      "693/694 [============================>.] - ETA: 0s - loss: 8026320797696.0000\n",
      "Epoch 44: val_loss improved from 4597906145280.00000 to 4597829599232.00000, saving model to model1.hdf5\n",
      "694/694 [==============================] - 27s 39ms/step - loss: 8023864508416.0000 - val_loss: 4597829599232.0000\n",
      "Epoch 45/100\n",
      "693/694 [============================>.] - ETA: 0s - loss: 8025972146176.0000\n",
      "Epoch 45: val_loss improved from 4597829599232.00000 to 4597760393216.00000, saving model to model1.hdf5\n",
      "694/694 [==============================] - 27s 39ms/step - loss: 8023754932224.0000 - val_loss: 4597760393216.0000\n",
      "Epoch 46/100\n",
      "694/694 [==============================] - ETA: 0s - loss: 8023635394560.0000\n",
      "Epoch 46: val_loss improved from 4597760393216.00000 to 4597686468608.00000, saving model to model1.hdf5\n",
      "694/694 [==============================] - 27s 39ms/step - loss: 8023635394560.0000 - val_loss: 4597686468608.0000\n",
      "Epoch 47/100\n",
      "693/694 [============================>.] - ETA: 0s - loss: 8026248970240.0000\n",
      "Epoch 47: val_loss improved from 4597686468608.00000 to 4597613592576.00000, saving model to model1.hdf5\n",
      "694/694 [==============================] - 27s 40ms/step - loss: 8023532109824.0000 - val_loss: 4597613592576.0000\n",
      "Epoch 48/100\n",
      "693/694 [============================>.] - ETA: 0s - loss: 8026403635200.0000\n",
      "Epoch 48: val_loss improved from 4597613592576.00000 to 4597539143680.00000, saving model to model1.hdf5\n",
      "694/694 [==============================] - 28s 40ms/step - loss: 8023429349376.0000 - val_loss: 4597539143680.0000\n",
      "Epoch 49/100\n",
      "693/694 [============================>.] - ETA: 0s - loss: 8025033146368.0000\n",
      "Epoch 49: val_loss improved from 4597539143680.00000 to 4597464170496.00000, saving model to model1.hdf5\n",
      "694/694 [==============================] - 28s 40ms/step - loss: 8023308763136.0000 - val_loss: 4597464170496.0000\n",
      "Epoch 50/100\n",
      "694/694 [==============================] - ETA: 0s - loss: 8023200759808.0000\n",
      "Epoch 50: val_loss improved from 4597464170496.00000 to 4597390245888.00000, saving model to model1.hdf5\n",
      "694/694 [==============================] - 28s 40ms/step - loss: 8023200759808.0000 - val_loss: 4597390245888.0000\n",
      "Epoch 51/100\n",
      "693/694 [============================>.] - ETA: 0s - loss: 8024170168320.0000\n",
      "Epoch 51: val_loss improved from 4597390245888.00000 to 4597319467008.00000, saving model to model1.hdf5\n",
      "694/694 [==============================] - 27s 39ms/step - loss: 8023081222144.0000 - val_loss: 4597319467008.0000\n",
      "Epoch 52/100\n",
      "693/694 [============================>.] - ETA: 0s - loss: 8023397892096.0000\n",
      "Epoch 52: val_loss improved from 4597319467008.00000 to 4597248163840.00000, saving model to model1.hdf5\n",
      "694/694 [==============================] - 28s 40ms/step - loss: 8022982656000.0000 - val_loss: 4597248163840.0000\n",
      "Epoch 53/100\n",
      "693/694 [============================>.] - ETA: 0s - loss: 8017940054016.0000\n",
      "Epoch 53: val_loss improved from 4597248163840.00000 to 4597174239232.00000, saving model to model1.hdf5\n",
      "694/694 [==============================] - 28s 40ms/step - loss: 8022873604096.0000 - val_loss: 4597174239232.0000\n",
      "Epoch 54/100\n",
      "693/694 [============================>.] - ETA: 0s - loss: 8025368166400.0000\n",
      "Epoch 54: val_loss improved from 4597174239232.00000 to 4597100314624.00000, saving model to model1.hdf5\n",
      "694/694 [==============================] - 28s 40ms/step - loss: 8022761930752.0000 - val_loss: 4597100314624.0000\n",
      "Epoch 55/100\n",
      "693/694 [============================>.] - ETA: 0s - loss: 8026275184640.0000\n",
      "Epoch 55: val_loss improved from 4597100314624.00000 to 4597029011456.00000, saving model to model1.hdf5\n",
      "694/694 [==============================] - 28s 40ms/step - loss: 8022657597440.0000 - val_loss: 4597029011456.0000\n",
      "Epoch 56/100\n",
      "693/694 [============================>.] - ETA: 0s - loss: 8022335160320.0000\n",
      "Epoch 56: val_loss improved from 4597029011456.00000 to 4596954562560.00000, saving model to model1.hdf5\n",
      "694/694 [==============================] - 28s 41ms/step - loss: 8022530719744.0000 - val_loss: 4596954562560.0000\n",
      "Epoch 57/100\n",
      "693/694 [============================>.] - ETA: 0s - loss: 8022912401408.0000\n",
      "Epoch 57: val_loss improved from 4596954562560.00000 to 4596883783680.00000, saving model to model1.hdf5\n",
      "694/694 [==============================] - 28s 41ms/step - loss: 8022423764992.0000 - val_loss: 4596883783680.0000\n",
      "Epoch 58/100\n",
      "693/694 [============================>.] - ETA: 0s - loss: 8021506260992.0000\n",
      "Epoch 58: val_loss improved from 4596883783680.00000 to 4596805140480.00000, saving model to model1.hdf5\n",
      "694/694 [==============================] - 28s 41ms/step - loss: 8022308945920.0000 - val_loss: 4596805140480.0000\n",
      "Epoch 59/100\n",
      "693/694 [============================>.] - ETA: 0s - loss: 8021316993024.0000\n",
      "Epoch 59: val_loss improved from 4596805140480.00000 to 4596736983040.00000, saving model to model1.hdf5\n",
      "694/694 [==============================] - 28s 41ms/step - loss: 8022204612608.0000 - val_loss: 4596736983040.0000\n",
      "Epoch 60/100\n",
      "693/694 [============================>.] - ETA: 0s - loss: 8018215829504.0000\n",
      "Epoch 60: val_loss improved from 4596736983040.00000 to 4596659388416.00000, saving model to model1.hdf5\n",
      "694/694 [==============================] - 28s 41ms/step - loss: 8022103425024.0000 - val_loss: 4596659388416.0000\n",
      "Epoch 61/100\n",
      "693/694 [============================>.] - ETA: 0s - loss: 8020857716736.0000\n",
      "Epoch 61: val_loss improved from 4596659388416.00000 to 4596589133824.00000, saving model to model1.hdf5\n",
      "694/694 [==============================] - 28s 41ms/step - loss: 8021978120192.0000 - val_loss: 4596589133824.0000\n",
      "Epoch 62/100\n",
      "693/694 [============================>.] - ETA: 0s - loss: 8026246348800.0000\n",
      "Epoch 62: val_loss improved from 4596589133824.00000 to 4596515733504.00000, saving model to model1.hdf5\n",
      "694/694 [==============================] - 29s 41ms/step - loss: 8021883224064.0000 - val_loss: 4596515733504.0000\n",
      "Epoch 63/100\n",
      "693/694 [============================>.] - ETA: 0s - loss: 8020157267968.0000\n",
      "Epoch 63: val_loss improved from 4596515733504.00000 to 4596445478912.00000, saving model to model1.hdf5\n",
      "694/694 [==============================] - 29s 42ms/step - loss: 8021761064960.0000 - val_loss: 4596445478912.0000\n",
      "Epoch 64/100\n",
      "693/694 [============================>.] - ETA: 0s - loss: 8022749347840.0000\n",
      "Epoch 64: val_loss improved from 4596445478912.00000 to 4596369981440.00000, saving model to model1.hdf5\n",
      "694/694 [==============================] - 29s 42ms/step - loss: 8021654110208.0000 - val_loss: 4596369981440.0000\n",
      "Epoch 65/100\n",
      "694/694 [==============================] - ETA: 0s - loss: 8021552922624.0000\n",
      "Epoch 65: val_loss improved from 4596369981440.00000 to 4596298678272.00000, saving model to model1.hdf5\n",
      "694/694 [==============================] - 29s 42ms/step - loss: 8021552922624.0000 - val_loss: 4596298678272.0000\n",
      "Epoch 66/100\n",
      "694/694 [==============================] - ETA: 0s - loss: 8021438627840.0000\n",
      "Epoch 66: val_loss improved from 4596298678272.00000 to 4596223705088.00000, saving model to model1.hdf5\n",
      "694/694 [==============================] - 29s 42ms/step - loss: 8021438627840.0000 - val_loss: 4596223705088.0000\n",
      "Epoch 67/100\n",
      "693/694 [============================>.] - ETA: 0s - loss: 8024017076224.0000\n",
      "Epoch 67: val_loss improved from 4596223705088.00000 to 4596152401920.00000, saving model to model1.hdf5\n",
      "694/694 [==============================] - 29s 42ms/step - loss: 8021320138752.0000 - val_loss: 4596152401920.0000\n",
      "Epoch 68/100\n",
      "693/694 [============================>.] - ETA: 0s - loss: 8020739227648.0000\n",
      "Epoch 68: val_loss improved from 4596152401920.00000 to 4596078477312.00000, saving model to model1.hdf5\n",
      "694/694 [==============================] - 29s 42ms/step - loss: 8021223145472.0000 - val_loss: 4596078477312.0000\n",
      "Epoch 69/100\n",
      "693/694 [============================>.] - ETA: 0s - loss: 8023154622464.0000\n",
      "Epoch 69: val_loss improved from 4596078477312.00000 to 4596006649856.00000, saving model to model1.hdf5\n",
      "694/694 [==============================] - 30s 43ms/step - loss: 8021093646336.0000 - val_loss: 4596006649856.0000\n",
      "Epoch 70/100\n",
      "693/694 [============================>.] - ETA: 0s - loss: 8024548179968.0000\n",
      "Epoch 70: val_loss improved from 4596006649856.00000 to 4595931676672.00000, saving model to model1.hdf5\n",
      "694/694 [==============================] - 30s 43ms/step - loss: 8020994031616.0000 - val_loss: 4595931676672.0000\n",
      "Epoch 71/100\n",
      "693/694 [============================>.] - ETA: 0s - loss: 8018425020416.0000\n",
      "Epoch 71: val_loss improved from 4595931676672.00000 to 4595861946368.00000, saving model to model1.hdf5\n",
      "694/694 [==============================] - 30s 43ms/step - loss: 8020867153920.0000 - val_loss: 4595861946368.0000\n",
      "Epoch 72/100\n",
      "694/694 [==============================] - ETA: 0s - loss: 8020751810560.0000\n",
      "Epoch 72: val_loss improved from 4595861946368.00000 to 4595788546048.00000, saving model to model1.hdf5\n",
      "694/694 [==============================] - 30s 43ms/step - loss: 8020751810560.0000 - val_loss: 4595788546048.0000\n",
      "Epoch 73/100\n",
      "693/694 [============================>.] - ETA: 0s - loss: 8020674740224.0000\n",
      "Epoch 73: val_loss improved from 4595788546048.00000 to 4595713048576.00000, saving model to model1.hdf5\n",
      "694/694 [==============================] - 30s 43ms/step - loss: 8020654292992.0000 - val_loss: 4595713048576.0000\n",
      "Epoch 74/100\n",
      "693/694 [============================>.] - ETA: 0s - loss: 8023892819968.0000\n",
      "Epoch 74: val_loss improved from 4595713048576.00000 to 4595641221120.00000, saving model to model1.hdf5\n",
      "694/694 [==============================] - 30s 43ms/step - loss: 8020547338240.0000 - val_loss: 4595641221120.0000\n",
      "Epoch 75/100\n",
      "693/694 [============================>.] - ETA: 0s - loss: 8024366252032.0000\n",
      "Epoch 75: val_loss improved from 4595641221120.00000 to 4595567820800.00000, saving model to model1.hdf5\n",
      "694/694 [==============================] - 30s 43ms/step - loss: 8020451393536.0000 - val_loss: 4595567820800.0000\n",
      "Epoch 76/100\n",
      "693/694 [============================>.] - ETA: 0s - loss: 8026139394048.0000\n",
      "Epoch 76: val_loss improved from 4595567820800.00000 to 4595495993344.00000, saving model to model1.hdf5\n",
      "694/694 [==============================] - 30s 44ms/step - loss: 8020331331584.0000 - val_loss: 4595495993344.0000\n",
      "Epoch 77/100\n",
      "693/694 [============================>.] - ETA: 0s - loss: 8021712306176.0000\n",
      "Epoch 77: val_loss improved from 4595495993344.00000 to 4595422593024.00000, saving model to model1.hdf5\n",
      "694/694 [==============================] - 31s 44ms/step - loss: 8020215463936.0000 - val_loss: 4595422593024.0000\n",
      "Epoch 78/100\n",
      "693/694 [============================>.] - ETA: 0s - loss: 8015075344384.0000\n",
      "Epoch 78: val_loss improved from 4595422593024.00000 to 4595349716992.00000, saving model to model1.hdf5\n",
      "694/694 [==============================] - 31s 44ms/step - loss: 8020114800640.0000 - val_loss: 4595349716992.0000\n",
      "Epoch 79/100\n",
      "694/694 [==============================] - ETA: 0s - loss: 8019999981568.0000\n",
      "Epoch 79: val_loss improved from 4595349716992.00000 to 4595276316672.00000, saving model to model1.hdf5\n",
      "694/694 [==============================] - 31s 45ms/step - loss: 8019999981568.0000 - val_loss: 4595276316672.0000\n",
      "Epoch 80/100\n",
      "693/694 [============================>.] - ETA: 0s - loss: 8018345328640.0000\n",
      "Epoch 80: val_loss improved from 4595276316672.00000 to 4595203440640.00000, saving model to model1.hdf5\n",
      "694/694 [==============================] - 31s 45ms/step - loss: 8019890929664.0000 - val_loss: 4595203440640.0000\n",
      "Epoch 81/100\n",
      "694/694 [==============================] - ETA: 0s - loss: 8019780829184.0000\n",
      "Epoch 81: val_loss improved from 4595203440640.00000 to 4595126894592.00000, saving model to model1.hdf5\n",
      "694/694 [==============================] - 31s 45ms/step - loss: 8019780829184.0000 - val_loss: 4595126894592.0000\n",
      "Epoch 82/100\n",
      "693/694 [============================>.] - ETA: 0s - loss: 8018311249920.0000\n",
      "Epoch 82: val_loss improved from 4595126894592.00000 to 4595055591424.00000, saving model to model1.hdf5\n",
      "694/694 [==============================] - 31s 45ms/step - loss: 8019655524352.0000 - val_loss: 4595055591424.0000\n",
      "Epoch 83/100\n",
      "693/694 [============================>.] - ETA: 0s - loss: 8021059043328.0000\n",
      "Epoch 83: val_loss improved from 4595055591424.00000 to 4594983239680.00000, saving model to model1.hdf5\n",
      "694/694 [==============================] - 32s 46ms/step - loss: 8019559055360.0000 - val_loss: 4594983239680.0000\n",
      "Epoch 84/100\n",
      "694/694 [==============================] - ETA: 0s - loss: 8019444236288.0000\n",
      "Epoch 84: val_loss improved from 4594983239680.00000 to 4594909839360.00000, saving model to model1.hdf5\n",
      "694/694 [==============================] - 32s 46ms/step - loss: 8019444236288.0000 - val_loss: 4594909839360.0000\n",
      "Epoch 85/100\n",
      "694/694 [==============================] - ETA: 0s - loss: 8019332038656.0000\n",
      "Epoch 85: val_loss improved from 4594909839360.00000 to 4594838011904.00000, saving model to model1.hdf5\n",
      "694/694 [==============================] - 32s 46ms/step - loss: 8019332038656.0000 - val_loss: 4594838011904.0000\n",
      "Epoch 86/100\n",
      "693/694 [============================>.] - ETA: 0s - loss: 8015331721216.0000\n",
      "Epoch 86: val_loss improved from 4594838011904.00000 to 4594765660160.00000, saving model to model1.hdf5\n",
      "694/694 [==============================] - 32s 46ms/step - loss: 8019215122432.0000 - val_loss: 4594765660160.0000\n",
      "Epoch 87/100\n",
      "694/694 [==============================] - ETA: 0s - loss: 8019112886272.0000\n",
      "Epoch 87: val_loss improved from 4594765660160.00000 to 4594690162688.00000, saving model to model1.hdf5\n",
      "694/694 [==============================] - 32s 46ms/step - loss: 8019112886272.0000 - val_loss: 4594690162688.0000\n",
      "Epoch 88/100\n",
      "694/694 [==============================] - ETA: 0s - loss: 8018999115776.0000\n",
      "Epoch 88: val_loss improved from 4594690162688.00000 to 4594618335232.00000, saving model to model1.hdf5\n",
      "694/694 [==============================] - 33s 47ms/step - loss: 8018999115776.0000 - val_loss: 4594618335232.0000\n",
      "Epoch 89/100\n",
      "694/694 [==============================] - ETA: 0s - loss: 8018887966720.0000\n",
      "Epoch 89: val_loss improved from 4594618335232.00000 to 4594545459200.00000, saving model to model1.hdf5\n",
      "694/694 [==============================] - 33s 48ms/step - loss: 8018887966720.0000 - val_loss: 4594545459200.0000\n",
      "Epoch 90/100\n",
      "693/694 [============================>.] - ETA: 0s - loss: 8019072516096.0000\n",
      "Epoch 90: val_loss improved from 4594545459200.00000 to 4594471534592.00000, saving model to model1.hdf5\n",
      "694/694 [==============================] - 34s 49ms/step - loss: 8018762137600.0000 - val_loss: 4594471534592.0000\n",
      "Epoch 91/100\n",
      "694/694 [==============================] - ETA: 0s - loss: 8018661998592.0000\n",
      "Epoch 91: val_loss improved from 4594471534592.00000 to 4594399707136.00000, saving model to model1.hdf5\n",
      "694/694 [==============================] - 34s 49ms/step - loss: 8018661998592.0000 - val_loss: 4594399707136.0000\n",
      "Epoch 92/100\n",
      "694/694 [==============================] - ETA: 0s - loss: 8018555043840.0000\n",
      "Epoch 92: val_loss improved from 4594399707136.00000 to 4594326831104.00000, saving model to model1.hdf5\n",
      "694/694 [==============================] - 34s 49ms/step - loss: 8018555043840.0000 - val_loss: 4594326831104.0000\n",
      "Epoch 93/100\n",
      "693/694 [============================>.] - ETA: 0s - loss: 8021143453696.0000\n",
      "Epoch 93: val_loss improved from 4594326831104.00000 to 4594251857920.00000, saving model to model1.hdf5\n",
      "694/694 [==============================] - 34s 49ms/step - loss: 8018456477696.0000 - val_loss: 4594251857920.0000\n",
      "Epoch 94/100\n",
      "694/694 [==============================] - ETA: 0s - loss: 8018344280064.0000\n",
      "Epoch 94: val_loss improved from 4594251857920.00000 to 4594178981888.00000, saving model to model1.hdf5\n",
      "694/694 [==============================] - 34s 49ms/step - loss: 8018344280064.0000 - val_loss: 4594178981888.0000\n",
      "Epoch 95/100\n",
      "694/694 [==============================] - ETA: 0s - loss: 8018229985280.0000\n",
      "Epoch 95: val_loss improved from 4594178981888.00000 to 4594106105856.00000, saving model to model1.hdf5\n",
      "694/694 [==============================] - 34s 49ms/step - loss: 8018229985280.0000 - val_loss: 4594106105856.0000\n",
      "Epoch 96/100\n",
      "694/694 [==============================] - ETA: 0s - loss: 8018124603392.0000\n",
      "Epoch 96: val_loss improved from 4594106105856.00000 to 4594033754112.00000, saving model to model1.hdf5\n",
      "694/694 [==============================] - 34s 49ms/step - loss: 8018124603392.0000 - val_loss: 4594033754112.0000\n",
      "Epoch 97/100\n",
      "693/694 [============================>.] - ETA: 0s - loss: 8015948283904.0000\n",
      "Epoch 97: val_loss improved from 4594033754112.00000 to 4593959829504.00000, saving model to model1.hdf5\n",
      "694/694 [==============================] - 34s 49ms/step - loss: 8018002444288.0000 - val_loss: 4593959829504.0000\n",
      "Epoch 98/100\n",
      "693/694 [============================>.] - ETA: 0s - loss: 8016525524992.0000\n",
      "Epoch 98: val_loss improved from 4593959829504.00000 to 4593888002048.00000, saving model to model1.hdf5\n",
      "694/694 [==============================] - 35s 50ms/step - loss: 8017897062400.0000 - val_loss: 4593888002048.0000\n",
      "Epoch 99/100\n",
      "694/694 [==============================] - ETA: 0s - loss: 8017770708992.0000\n",
      "Epoch 99: val_loss improved from 4593888002048.00000 to 4593814077440.00000, saving model to model1.hdf5\n",
      "694/694 [==============================] - 35s 50ms/step - loss: 8017770708992.0000 - val_loss: 4593814077440.0000\n",
      "Epoch 100/100\n",
      "693/694 [============================>.] - ETA: 0s - loss: 8020289912832.0000\n",
      "Epoch 100: val_loss improved from 4593814077440.00000 to 4593742249984.00000, saving model to model1.hdf5\n",
      "694/694 [==============================] - 35s 50ms/step - loss: 8017661657088.0000 - val_loss: 4593742249984.0000\n",
      "Wall time: 45min 53s\n"
     ]
    }
   ],
   "source": [
    "%%time\n",
    "model = build_lstm_model(\n",
    "    X_train, output_size=1, neurons=lstm_neurons, dropout=dropout, loss=loss,\n",
    "    optimizer=optimizer)\n",
    "\n",
    "from tensorflow.keras.callbacks import ModelCheckpoint, EarlyStopping\n",
    "\n",
    "checkpoint_path = 'model1.hdf5'\n",
    "\n",
    "checkpoint = ModelCheckpoint(filepath=checkpoint_path,\n",
    "                             monitor='val_loss',\n",
    "                             verbose=1,\n",
    "                             save_best_only=True,\n",
    "                             mode='min')\n",
    "\n",
    "earlystopping = EarlyStopping(monitor='val_loss', patience=10, restore_best_weights=True)\n",
    "\n",
    "callbacks = [ checkpoint, earlystopping ]\n",
    "\n",
    "history = model.fit(\n",
    "    X_train, y_train, validation_data=(X_test, y_test), epochs=epochs, batch_size=batch_size, verbose=1, shuffle=True, callbacks=callbacks)"
   ],
   "metadata": {
    "collapsed": false,
    "pycharm": {
     "name": "#%%\n"
    }
   }
  },
  {
   "cell_type": "code",
   "execution_count": 87,
   "outputs": [
    {
     "data": {
      "text/plain": "<Figure size 432x288 with 1 Axes>",
      "image/png": "[encoded data removed]"
     },
     "metadata": {
      "needs_background": "light"
     },
     "output_type": "display_data"
    }
   ],
   "source": [
    "import matplotlib.pyplot as plt\n",
    "plt.plot(history.history['loss'],'r',linewidth=2, label='Train loss')\n",
    "plt.plot(history.history['val_loss'], 'g',linewidth=2, label='Validation loss')\n",
    "plt.title('LSTM')\n",
    "plt.xlabel('Epochs')\n",
    "plt.ylabel('MSE')\n",
    "plt.show()"
   ],
   "metadata": {
    "collapsed": false,
    "pycharm": {
     "name": "#%%\n"
    }
   }
  },
  {
   "cell_type": "code",
   "execution_count": 88,
   "outputs": [
    {
     "name": "stdout",
     "output_type": "stream",
     "text": [
      "WARNING:tensorflow:AutoGraph could not transform <function Model.make_predict_function.<locals>.predict_function at 0x000001E8BE4B5318> and will run it as-is.\n",
      "Please report this to the TensorFlow team. When filing the bug, set the verbosity to 10 (on Linux, `export AUTOGRAPH_VERBOSITY=10`) and attach the full output.\n",
      "Cause: 'arguments' object has no attribute 'posonlyargs'\n",
      "To silence this warning, decorate the function with @tf.autograph.experimental.do_not_convert\n",
      "WARNING: AutoGraph could not transform <function Model.make_predict_function.<locals>.predict_function at 0x000001E8BE4B5318> and will run it as-is.\n",
      "Please report this to the TensorFlow team. When filing the bug, set the verbosity to 10 (on Linux, `export AUTOGRAPH_VERBOSITY=10`) and attach the full output.\n",
      "Cause: 'arguments' object has no attribute 'posonlyargs'\n",
      "To silence this warning, decorate the function with @tf.autograph.experimental.do_not_convert\n",
      "[[3408.237]\n",
      " [3408.237]\n",
      " [3408.237]\n",
      " ...\n",
      " [3408.237]\n",
      " [3408.237]\n",
      " [3408.237]]\n"
     ]
    },
    {
     "data": {
      "text/plain": "1077913.1180619032"
     },
     "execution_count": 88,
     "metadata": {},
     "output_type": "execute_result"
    }
   ],
   "source": [
    "targets = test[target_col][window_len:]\n",
    "predictions = model.predict(X_test)\n",
    "print(predictions)\n",
    "preds = predictions.squeeze()\n",
    "mean_absolute_error(preds, y_test)"
   ],
   "metadata": {
    "collapsed": false,
    "pycharm": {
     "name": "#%%\n"
    }
   }
  },
  {
   "cell_type": "code",
   "execution_count": 89,
   "outputs": [
    {
     "data": {
      "text/plain": "4593742205353.059"
     },
     "execution_count": 89,
     "metadata": {},
     "output_type": "execute_result"
    }
   ],
   "source": [
    "from sklearn.metrics import mean_squared_error\n",
    "MAE=mean_squared_error(preds, y_test)\n",
    "MAE"
   ],
   "metadata": {
    "collapsed": false,
    "pycharm": {
     "name": "#%%\n"
    }
   }
  },
  {
   "cell_type": "code",
   "execution_count": 90,
   "outputs": [
    {
     "data": {
      "text/plain": "<Figure size 936x504 with 1 Axes>",
      "image/png": "[encoded data removed]"
     },
     "metadata": {
      "needs_background": "light"
     },
     "output_type": "display_data"
    }
   ],
   "source": [
    "preds = test[target_col].values[:-window_len] * (preds + 1)\n",
    "predicted_btc_price_test_data = preds\n",
    "preds = pd.Series(index=targets.index, data=preds)\n",
    "line_plot(targets, preds, 'actual', 'prediction', lw=3)"
   ],
   "metadata": {
    "collapsed": false,
    "pycharm": {
     "name": "#%%\n"
    }
   }
  },
  {
   "cell_type": "code",
   "execution_count": 91,
   "outputs": [
    {
     "data": {
      "text/plain": "array([[[4.482502e+06],\n        [4.639636e+06],\n        [4.693417e+06],\n        [4.625511e+06],\n        [4.408721e+06],\n        [4.154922e+06],\n        [3.618560e+06],\n        [2.723181e+06],\n        [1.718660e+06],\n        [7.709230e+05],\n        [1.565650e+05],\n        [4.821000e+03],\n        [3.000000e+00],\n        [1.000000e+00],\n        [0.000000e+00],\n        [1.000000e+00],\n        [0.000000e+00],\n        [2.000000e+00],\n        [1.000000e+00],\n        [0.000000e+00],\n        [1.000000e+00],\n        [0.000000e+00],\n        [0.000000e+00],\n        [0.000000e+00]]])"
     },
     "execution_count": 91,
     "metadata": {},
     "output_type": "execute_result"
    }
   ],
   "source": [
    "X_ = y_test[-window_len:]\n",
    "X_ = X_.reshape(1, window_len, 1)\n",
    "X_"
   ],
   "metadata": {
    "collapsed": false,
    "pycharm": {
     "name": "#%%\n"
    }
   }
  },
  {
   "cell_type": "code",
   "execution_count": 92,
   "outputs": [
    {
     "data": {
      "text/plain": "array([[3408.237]], dtype=float32)"
     },
     "execution_count": 92,
     "metadata": {},
     "output_type": "execute_result"
    }
   ],
   "source": [
    "Y_ = model.predict(X_).reshape(-1, 1)\n",
    "Y_"
   ],
   "metadata": {
    "collapsed": false,
    "pycharm": {
     "name": "#%%\n"
    }
   }
  },
  {
   "cell_type": "code",
   "execution_count": 95,
   "outputs": [
    {
     "name": "stderr",
     "output_type": "stream",
     "text": [
      "D:\\anaconda3\\envs\\v-env\\lib\\site-packages\\pandas\\core\\indexing.py:1732: SettingWithCopyWarning: \n",
      "A value is trying to be set on a copy of a slice from a DataFrame\n",
      "\n",
      "See the caveats in the documentation: https://pandas.pydata.org/pandas-docs/stable/user_guide/indexing.html#returning-a-view-versus-a-copy\n",
      "  self._setitem_single_block(indexer, value, name)\n"
     ]
    },
    {
     "ename": "ValueError",
     "evalue": "Length of values (1) does not match length of index (90)",
     "output_type": "error",
     "traceback": [
      "\u001B[1;31m---------------------------------------------------------------------------\u001B[0m",
      "\u001B[1;31mValueError\u001B[0m                                Traceback (most recent call last)",
      "\u001B[1;32m<ipython-input-95-b528c5c3e131>\u001B[0m in \u001B[0;36m<module>\u001B[1;34m\u001B[0m\n\u001B[0;32m      8\u001B[0m \u001B[0mdf_future\u001B[0m \u001B[1;33m=\u001B[0m \u001B[0mpd\u001B[0m\u001B[1;33m.\u001B[0m\u001B[0mDataFrame\u001B[0m\u001B[1;33m(\u001B[0m\u001B[0mcolumns\u001B[0m\u001B[1;33m=\u001B[0m\u001B[1;33m[\u001B[0m\u001B[1;34m'Date'\u001B[0m\u001B[1;33m,\u001B[0m \u001B[1;34m'Actual'\u001B[0m\u001B[1;33m,\u001B[0m \u001B[1;34m'Forecast'\u001B[0m\u001B[1;33m]\u001B[0m\u001B[1;33m)\u001B[0m\u001B[1;33m\u001B[0m\u001B[1;33m\u001B[0m\u001B[0m\n\u001B[0;32m      9\u001B[0m \u001B[0mdf_future\u001B[0m\u001B[1;33m[\u001B[0m\u001B[1;34m'Date'\u001B[0m\u001B[1;33m]\u001B[0m \u001B[1;33m=\u001B[0m \u001B[0mpd\u001B[0m\u001B[1;33m.\u001B[0m\u001B[0mdate_range\u001B[0m\u001B[1;33m(\u001B[0m\u001B[0mstart\u001B[0m\u001B[1;33m=\u001B[0m\u001B[0mdf_past\u001B[0m\u001B[1;33m[\u001B[0m\u001B[1;34m'Date'\u001B[0m\u001B[1;33m]\u001B[0m\u001B[1;33m.\u001B[0m\u001B[0miloc\u001B[0m\u001B[1;33m[\u001B[0m\u001B[1;33m-\u001B[0m\u001B[1;36m1\u001B[0m\u001B[1;33m]\u001B[0m \u001B[1;33m+\u001B[0m \u001B[0mpd\u001B[0m\u001B[1;33m.\u001B[0m\u001B[0mTimedelta\u001B[0m\u001B[1;33m(\u001B[0m\u001B[0mdays\u001B[0m\u001B[1;33m=\u001B[0m\u001B[1;36m1\u001B[0m\u001B[1;33m)\u001B[0m\u001B[1;33m,\u001B[0m \u001B[0mperiods\u001B[0m\u001B[1;33m=\u001B[0m\u001B[1;36m90\u001B[0m\u001B[1;33m)\u001B[0m\u001B[1;33m\u001B[0m\u001B[1;33m\u001B[0m\u001B[0m\n\u001B[1;32m---> 10\u001B[1;33m \u001B[0mdf_future\u001B[0m\u001B[1;33m[\u001B[0m\u001B[1;34m'Forecast'\u001B[0m\u001B[1;33m]\u001B[0m \u001B[1;33m=\u001B[0m \u001B[0mY_\u001B[0m\u001B[1;33m.\u001B[0m\u001B[0mflatten\u001B[0m\u001B[1;33m(\u001B[0m\u001B[1;33m)\u001B[0m\u001B[1;33m\u001B[0m\u001B[1;33m\u001B[0m\u001B[0m\n\u001B[0m\u001B[0;32m     11\u001B[0m \u001B[0mdf_future\u001B[0m\u001B[1;33m[\u001B[0m\u001B[1;34m'Actual'\u001B[0m\u001B[1;33m]\u001B[0m \u001B[1;33m=\u001B[0m \u001B[0mnp\u001B[0m\u001B[1;33m.\u001B[0m\u001B[0mnan\u001B[0m\u001B[1;33m\u001B[0m\u001B[1;33m\u001B[0m\u001B[0m\n\u001B[0;32m     12\u001B[0m \u001B[1;33m\u001B[0m\u001B[0m\n",
      "\u001B[1;32mD:\\anaconda3\\envs\\v-env\\lib\\site-packages\\pandas\\core\\frame.py\u001B[0m in \u001B[0;36m__setitem__\u001B[1;34m(self, key, value)\u001B[0m\n\u001B[0;32m   3610\u001B[0m         \u001B[1;32melse\u001B[0m\u001B[1;33m:\u001B[0m\u001B[1;33m\u001B[0m\u001B[1;33m\u001B[0m\u001B[0m\n\u001B[0;32m   3611\u001B[0m             \u001B[1;31m# set column\u001B[0m\u001B[1;33m\u001B[0m\u001B[1;33m\u001B[0m\u001B[1;33m\u001B[0m\u001B[0m\n\u001B[1;32m-> 3612\u001B[1;33m             \u001B[0mself\u001B[0m\u001B[1;33m.\u001B[0m\u001B[0m_set_item\u001B[0m\u001B[1;33m(\u001B[0m\u001B[0mkey\u001B[0m\u001B[1;33m,\u001B[0m \u001B[0mvalue\u001B[0m\u001B[1;33m)\u001B[0m\u001B[1;33m\u001B[0m\u001B[1;33m\u001B[0m\u001B[0m\n\u001B[0m\u001B[0;32m   3613\u001B[0m \u001B[1;33m\u001B[0m\u001B[0m\n\u001B[0;32m   3614\u001B[0m     \u001B[1;32mdef\u001B[0m \u001B[0m_setitem_slice\u001B[0m\u001B[1;33m(\u001B[0m\u001B[0mself\u001B[0m\u001B[1;33m,\u001B[0m \u001B[0mkey\u001B[0m\u001B[1;33m:\u001B[0m \u001B[0mslice\u001B[0m\u001B[1;33m,\u001B[0m \u001B[0mvalue\u001B[0m\u001B[1;33m)\u001B[0m\u001B[1;33m:\u001B[0m\u001B[1;33m\u001B[0m\u001B[1;33m\u001B[0m\u001B[0m\n",
      "\u001B[1;32mD:\\anaconda3\\envs\\v-env\\lib\\site-packages\\pandas\\core\\frame.py\u001B[0m in \u001B[0;36m_set_item\u001B[1;34m(self, key, value)\u001B[0m\n\u001B[0;32m   3782\u001B[0m         \u001B[0mensure\u001B[0m \u001B[0mhomogeneity\u001B[0m\u001B[1;33m.\u001B[0m\u001B[1;33m\u001B[0m\u001B[1;33m\u001B[0m\u001B[0m\n\u001B[0;32m   3783\u001B[0m         \"\"\"\n\u001B[1;32m-> 3784\u001B[1;33m         \u001B[0mvalue\u001B[0m \u001B[1;33m=\u001B[0m \u001B[0mself\u001B[0m\u001B[1;33m.\u001B[0m\u001B[0m_sanitize_column\u001B[0m\u001B[1;33m(\u001B[0m\u001B[0mvalue\u001B[0m\u001B[1;33m)\u001B[0m\u001B[1;33m\u001B[0m\u001B[1;33m\u001B[0m\u001B[0m\n\u001B[0m\u001B[0;32m   3785\u001B[0m \u001B[1;33m\u001B[0m\u001B[0m\n\u001B[0;32m   3786\u001B[0m         if (\n",
      "\u001B[1;32mD:\\anaconda3\\envs\\v-env\\lib\\site-packages\\pandas\\core\\frame.py\u001B[0m in \u001B[0;36m_sanitize_column\u001B[1;34m(self, value)\u001B[0m\n\u001B[0;32m   4507\u001B[0m \u001B[1;33m\u001B[0m\u001B[0m\n\u001B[0;32m   4508\u001B[0m         \u001B[1;32mif\u001B[0m \u001B[0mis_list_like\u001B[0m\u001B[1;33m(\u001B[0m\u001B[0mvalue\u001B[0m\u001B[1;33m)\u001B[0m\u001B[1;33m:\u001B[0m\u001B[1;33m\u001B[0m\u001B[1;33m\u001B[0m\u001B[0m\n\u001B[1;32m-> 4509\u001B[1;33m             \u001B[0mcom\u001B[0m\u001B[1;33m.\u001B[0m\u001B[0mrequire_length_match\u001B[0m\u001B[1;33m(\u001B[0m\u001B[0mvalue\u001B[0m\u001B[1;33m,\u001B[0m \u001B[0mself\u001B[0m\u001B[1;33m.\u001B[0m\u001B[0mindex\u001B[0m\u001B[1;33m)\u001B[0m\u001B[1;33m\u001B[0m\u001B[1;33m\u001B[0m\u001B[0m\n\u001B[0m\u001B[0;32m   4510\u001B[0m         \u001B[1;32mreturn\u001B[0m \u001B[0msanitize_array\u001B[0m\u001B[1;33m(\u001B[0m\u001B[0mvalue\u001B[0m\u001B[1;33m,\u001B[0m \u001B[0mself\u001B[0m\u001B[1;33m.\u001B[0m\u001B[0mindex\u001B[0m\u001B[1;33m,\u001B[0m \u001B[0mcopy\u001B[0m\u001B[1;33m=\u001B[0m\u001B[1;32mTrue\u001B[0m\u001B[1;33m,\u001B[0m \u001B[0mallow_2d\u001B[0m\u001B[1;33m=\u001B[0m\u001B[1;32mTrue\u001B[0m\u001B[1;33m)\u001B[0m\u001B[1;33m\u001B[0m\u001B[1;33m\u001B[0m\u001B[0m\n\u001B[0;32m   4511\u001B[0m \u001B[1;33m\u001B[0m\u001B[0m\n",
      "\u001B[1;32mD:\\anaconda3\\envs\\v-env\\lib\\site-packages\\pandas\\core\\common.py\u001B[0m in \u001B[0;36mrequire_length_match\u001B[1;34m(data, index)\u001B[0m\n\u001B[0;32m    530\u001B[0m     \u001B[1;32mif\u001B[0m \u001B[0mlen\u001B[0m\u001B[1;33m(\u001B[0m\u001B[0mdata\u001B[0m\u001B[1;33m)\u001B[0m \u001B[1;33m!=\u001B[0m \u001B[0mlen\u001B[0m\u001B[1;33m(\u001B[0m\u001B[0mindex\u001B[0m\u001B[1;33m)\u001B[0m\u001B[1;33m:\u001B[0m\u001B[1;33m\u001B[0m\u001B[1;33m\u001B[0m\u001B[0m\n\u001B[0;32m    531\u001B[0m         raise ValueError(\n\u001B[1;32m--> 532\u001B[1;33m             \u001B[1;34m\"Length of values \"\u001B[0m\u001B[1;33m\u001B[0m\u001B[1;33m\u001B[0m\u001B[0m\n\u001B[0m\u001B[0;32m    533\u001B[0m             \u001B[1;34mf\"({len(data)}) \"\u001B[0m\u001B[1;33m\u001B[0m\u001B[1;33m\u001B[0m\u001B[0m\n\u001B[0;32m    534\u001B[0m             \u001B[1;34m\"does not match length of index \"\u001B[0m\u001B[1;33m\u001B[0m\u001B[1;33m\u001B[0m\u001B[0m\n",
      "\u001B[1;31mValueError\u001B[0m: Length of values (1) does not match length of index (90)"
     ]
    }
   ],
   "source": [
    "# organize the results in a data frame\n",
    "df_past = hist[[target_col]].reset_index()\n",
    "df_past.rename(columns={'Horodate': 'Date', target_col: 'Actual'}, inplace=True)\n",
    "df_past['Date'] = pd.to_datetime(df_past['Date'])\n",
    "df_past['Forecast'] = np.nan\n",
    "df_past['Forecast'].iloc[-1] = df_past['Actual'].iloc[-1]\n",
    "\n",
    "df_future = pd.DataFrame(columns=['Date', 'Actual', 'Forecast'])\n",
    "df_future['Date'] = pd.date_range(start=df_past['Date'].iloc[-1] + pd.Timedelta(days=1), periods=90)\n",
    "df_future['Forecast'] = Y_.flatten()\n",
    "df_future['Actual'] = np.nan\n",
    "\n",
    "results = df_past.append(df_future).set_index('Date')\n",
    "\n",
    "# plot the results\n",
    "results.plot(title='Prod')"
   ],
   "metadata": {
    "collapsed": false,
    "pycharm": {
     "name": "#%%\n"
    }
   }
  },
  {
   "cell_type": "code",
   "execution_count": 96,
   "outputs": [
    {
     "data": {
      "text/plain": "                     Date  Actual  Forecast\n0     2020-06-01 00:30:00     0.0       NaN\n1     2020-06-01 01:00:00     0.0       NaN\n2     2020-06-01 01:30:00     0.0       NaN\n3     2020-06-01 02:00:00     0.0       NaN\n4     2020-06-01 02:30:00     0.0       NaN\n...                   ...     ...       ...\n27767 2021-12-31 20:30:00     0.0       NaN\n27768 2021-12-31 21:00:00     1.0       NaN\n27769 2021-12-31 21:30:00     0.0       NaN\n27770 2021-12-31 22:00:00     0.0       NaN\n27771 2021-12-31 22:30:00     0.0       0.0\n\n[27772 rows x 3 columns]",
      "text/html": "<div>\n<style scoped>\n    .dataframe tbody tr th:only-of-type {\n        vertical-align: middle;\n    }\n\n    .dataframe tbody tr th {\n        vertical-align: top;\n    }\n\n    .dataframe thead th {\n        text-align: right;\n    }\n</style>\n<table border=\"1\" class=\"dataframe\">\n  <thead>\n    <tr style=\"text-align: right;\">\n      <th></th>\n      <th>Date</th>\n      <th>Actual</th>\n      <th>Forecast</th>\n    </tr>\n  </thead>\n  <tbody>\n    <tr>\n      <th>0</th>\n      <td>2020-06-01 00:30:00</td>\n      <td>0.0</td>\n      <td>NaN</td>\n    </tr>\n    <tr>\n      <th>1</th>\n      <td>2020-06-01 01:00:00</td>\n      <td>0.0</td>\n      <td>NaN</td>\n    </tr>\n    <tr>\n      <th>2</th>\n      <td>2020-06-01 01:30:00</td>\n      <td>0.0</td>\n      <td>NaN</td>\n    </tr>\n    <tr>\n      <th>3</th>\n      <td>2020-06-01 02:00:00</td>\n      <td>0.0</td>\n      <td>NaN</td>\n    </tr>\n    <tr>\n      <th>4</th>\n      <td>2020-06-01 02:30:00</td>\n      <td>0.0</td>\n      <td>NaN</td>\n    </tr>\n    <tr>\n      <th>...</th>\n      <td>...</td>\n      <td>...</td>\n      <td>...</td>\n    </tr>\n    <tr>\n      <th>27767</th>\n      <td>2021-12-31 20:30:00</td>\n      <td>0.0</td>\n      <td>NaN</td>\n    </tr>\n    <tr>\n      <th>27768</th>\n      <td>2021-12-31 21:00:00</td>\n      <td>1.0</td>\n      <td>NaN</td>\n    </tr>\n    <tr>\n      <th>27769</th>\n      <td>2021-12-31 21:30:00</td>\n      <td>0.0</td>\n      <td>NaN</td>\n    </tr>\n    <tr>\n      <th>27770</th>\n      <td>2021-12-31 22:00:00</td>\n      <td>0.0</td>\n      <td>NaN</td>\n    </tr>\n    <tr>\n      <th>27771</th>\n      <td>2021-12-31 22:30:00</td>\n      <td>0.0</td>\n      <td>0.0</td>\n    </tr>\n  </tbody>\n</table>\n<p>27772 rows × 3 columns</p>\n</div>"
     },
     "execution_count": 96,
     "metadata": {},
     "output_type": "execute_result"
    }
   ],
   "source": [
    "df_past"
   ],
   "metadata": {
    "collapsed": false,
    "pycharm": {
     "name": "#%%\n"
    }
   }
  },
  {
   "cell_type": "code",
   "execution_count": 98,
   "outputs": [
    {
     "name": "stdout",
     "output_type": "stream",
     "text": [
      "Epoch 1/100\n",
      "WARNING:tensorflow:AutoGraph could not transform <function Model.make_train_function.<locals>.train_function at 0x000001E8AE964D38> and will run it as-is.\n",
      "Please report this to the TensorFlow team. When filing the bug, set the verbosity to 10 (on Linux, `export AUTOGRAPH_VERBOSITY=10`) and attach the full output.\n",
      "Cause: module 'gast' has no attribute 'Constant'\n",
      "To silence this warning, decorate the function with @tf.autograph.experimental.do_not_convert\n",
      "WARNING: AutoGraph could not transform <function Model.make_train_function.<locals>.train_function at 0x000001E8AE964D38> and will run it as-is.\n",
      "Please report this to the TensorFlow team. When filing the bug, set the verbosity to 10 (on Linux, `export AUTOGRAPH_VERBOSITY=10`) and attach the full output.\n",
      "Cause: module 'gast' has no attribute 'Constant'\n",
      "To silence this warning, decorate the function with @tf.autograph.experimental.do_not_convert\n",
      "867/867 [==============================] - 22s 22ms/step - loss: 0.0274\n",
      "Epoch 2/100\n",
      "867/867 [==============================] - 19s 22ms/step - loss: 0.0208\n",
      "Epoch 3/100\n",
      "867/867 [==============================] - 19s 22ms/step - loss: 0.0195\n",
      "Epoch 4/100\n",
      "867/867 [==============================] - 19s 22ms/step - loss: 0.0188\n",
      "Epoch 5/100\n",
      "867/867 [==============================] - 20s 23ms/step - loss: 0.0183\n",
      "Epoch 6/100\n",
      "867/867 [==============================] - 19s 22ms/step - loss: 0.0180\n",
      "Epoch 7/100\n",
      "867/867 [==============================] - 20s 23ms/step - loss: 0.0178\n",
      "Epoch 8/100\n",
      "867/867 [==============================] - 19s 22ms/step - loss: 0.0175\n",
      "Epoch 9/100\n",
      "867/867 [==============================] - 19s 22ms/step - loss: 0.0173\n",
      "Epoch 10/100\n",
      "867/867 [==============================] - 19s 22ms/step - loss: 0.0171\n",
      "Epoch 11/100\n",
      "867/867 [==============================] - 20s 23ms/step - loss: 0.0170\n",
      "Epoch 12/100\n",
      "867/867 [==============================] - 19s 22ms/step - loss: 0.0167\n",
      "Epoch 13/100\n",
      "867/867 [==============================] - 19s 22ms/step - loss: 0.0165\n",
      "Epoch 14/100\n",
      "867/867 [==============================] - 19s 22ms/step - loss: 0.0163\n",
      "Epoch 15/100\n",
      "867/867 [==============================] - 19s 22ms/step - loss: 0.0161\n",
      "Epoch 16/100\n",
      "867/867 [==============================] - 19s 22ms/step - loss: 0.0159\n",
      "Epoch 17/100\n",
      "867/867 [==============================] - 19s 22ms/step - loss: 0.0158\n",
      "Epoch 18/100\n",
      "867/867 [==============================] - 20s 23ms/step - loss: 0.0157\n",
      "Epoch 19/100\n",
      "867/867 [==============================] - 20s 23ms/step - loss: 0.0156\n",
      "Epoch 20/100\n",
      "867/867 [==============================] - 19s 22ms/step - loss: 0.0154\n",
      "Epoch 21/100\n",
      "867/867 [==============================] - 19s 22ms/step - loss: 0.0153\n",
      "Epoch 22/100\n",
      "867/867 [==============================] - 19s 22ms/step - loss: 0.0152\n",
      "Epoch 23/100\n",
      "867/867 [==============================] - 19s 22ms/step - loss: 0.0151\n",
      "Epoch 24/100\n",
      "867/867 [==============================] - 19s 22ms/step - loss: 0.0150\n",
      "Epoch 25/100\n",
      "867/867 [==============================] - 19s 22ms/step - loss: 0.0149\n",
      "Epoch 26/100\n",
      "867/867 [==============================] - 19s 22ms/step - loss: 0.0148\n",
      "Epoch 27/100\n",
      "867/867 [==============================] - 19s 22ms/step - loss: 0.0148\n",
      "Epoch 28/100\n",
      "867/867 [==============================] - 19s 22ms/step - loss: 0.0146\n",
      "Epoch 29/100\n",
      "867/867 [==============================] - 19s 22ms/step - loss: 0.0146\n",
      "Epoch 30/100\n",
      "867/867 [==============================] - 19s 22ms/step - loss: 0.0146\n",
      "Epoch 31/100\n",
      "867/867 [==============================] - 19s 22ms/step - loss: 0.0144\n",
      "Epoch 32/100\n",
      "867/867 [==============================] - 19s 22ms/step - loss: 0.0144\n",
      "Epoch 33/100\n",
      "867/867 [==============================] - 19s 22ms/step - loss: 0.0143\n",
      "Epoch 34/100\n",
      "867/867 [==============================] - 19s 22ms/step - loss: 0.0143\n",
      "Epoch 35/100\n",
      "867/867 [==============================] - 19s 22ms/step - loss: 0.0142\n",
      "Epoch 36/100\n",
      "867/867 [==============================] - 19s 22ms/step - loss: 0.0141\n",
      "Epoch 37/100\n",
      "867/867 [==============================] - 19s 22ms/step - loss: 0.0141\n",
      "Epoch 38/100\n",
      "867/867 [==============================] - 19s 22ms/step - loss: 0.0140\n",
      "Epoch 39/100\n",
      "867/867 [==============================] - 19s 22ms/step - loss: 0.0140\n",
      "Epoch 40/100\n",
      "867/867 [==============================] - 19s 22ms/step - loss: 0.0139\n",
      "Epoch 41/100\n",
      "867/867 [==============================] - 19s 22ms/step - loss: 0.0138\n",
      "Epoch 42/100\n",
      "867/867 [==============================] - 19s 22ms/step - loss: 0.0138\n",
      "Epoch 43/100\n",
      "867/867 [==============================] - 19s 22ms/step - loss: 0.0137\n",
      "Epoch 44/100\n",
      "867/867 [==============================] - 19s 22ms/step - loss: 0.0137\n",
      "Epoch 45/100\n",
      "867/867 [==============================] - 19s 22ms/step - loss: 0.0136\n",
      "Epoch 46/100\n",
      "867/867 [==============================] - 19s 22ms/step - loss: 0.0136\n",
      "Epoch 47/100\n",
      "867/867 [==============================] - 19s 22ms/step - loss: 0.0134\n",
      "Epoch 48/100\n",
      "867/867 [==============================] - 19s 22ms/step - loss: 0.0135\n",
      "Epoch 49/100\n",
      "867/867 [==============================] - 19s 22ms/step - loss: 0.0134\n",
      "Epoch 50/100\n",
      "867/867 [==============================] - 19s 22ms/step - loss: 0.0133\n",
      "Epoch 51/100\n",
      "867/867 [==============================] - 19s 22ms/step - loss: 0.0133\n",
      "Epoch 52/100\n",
      "867/867 [==============================] - 19s 22ms/step - loss: 0.0133\n",
      "Epoch 53/100\n",
      "867/867 [==============================] - 19s 22ms/step - loss: 0.0132\n",
      "Epoch 54/100\n",
      "867/867 [==============================] - 19s 22ms/step - loss: 0.0131\n",
      "Epoch 55/100\n",
      "867/867 [==============================] - 19s 22ms/step - loss: 0.0131\n",
      "Epoch 56/100\n",
      "867/867 [==============================] - 19s 22ms/step - loss: 0.0130\n",
      "Epoch 57/100\n",
      "867/867 [==============================] - 19s 22ms/step - loss: 0.0129\n",
      "Epoch 58/100\n",
      "867/867 [==============================] - 19s 22ms/step - loss: 0.0129\n",
      "Epoch 59/100\n",
      "867/867 [==============================] - 19s 22ms/step - loss: 0.0128\n",
      "Epoch 60/100\n",
      "867/867 [==============================] - 19s 22ms/step - loss: 0.0129\n",
      "Epoch 61/100\n",
      "867/867 [==============================] - 19s 22ms/step - loss: 0.0128\n",
      "Epoch 62/100\n",
      "867/867 [==============================] - 19s 22ms/step - loss: 0.0128\n",
      "Epoch 63/100\n",
      "867/867 [==============================] - 19s 22ms/step - loss: 0.0126\n",
      "Epoch 64/100\n",
      "867/867 [==============================] - 19s 22ms/step - loss: 0.0126\n",
      "Epoch 65/100\n",
      "867/867 [==============================] - 19s 22ms/step - loss: 0.0126\n",
      "Epoch 66/100\n",
      "867/867 [==============================] - 19s 22ms/step - loss: 0.0126\n",
      "Epoch 67/100\n",
      "867/867 [==============================] - 19s 22ms/step - loss: 0.0125\n",
      "Epoch 68/100\n",
      "867/867 [==============================] - 19s 22ms/step - loss: 0.0125\n",
      "Epoch 69/100\n",
      "867/867 [==============================] - 19s 22ms/step - loss: 0.0124\n",
      "Epoch 70/100\n",
      "867/867 [==============================] - 19s 22ms/step - loss: 0.0124\n",
      "Epoch 71/100\n",
      "867/867 [==============================] - 19s 22ms/step - loss: 0.0124\n",
      "Epoch 72/100\n",
      "867/867 [==============================] - 19s 22ms/step - loss: 0.0124\n",
      "Epoch 73/100\n",
      "867/867 [==============================] - 20s 23ms/step - loss: 0.0123\n",
      "Epoch 74/100\n",
      "867/867 [==============================] - 19s 22ms/step - loss: 0.0123\n",
      "Epoch 75/100\n",
      "867/867 [==============================] - 19s 22ms/step - loss: 0.0122\n",
      "Epoch 76/100\n",
      "867/867 [==============================] - 19s 22ms/step - loss: 0.0121\n",
      "Epoch 77/100\n",
      "867/867 [==============================] - 19s 22ms/step - loss: 0.0121\n",
      "Epoch 78/100\n",
      "867/867 [==============================] - 19s 22ms/step - loss: 0.0120\n",
      "Epoch 79/100\n",
      "867/867 [==============================] - 19s 22ms/step - loss: 0.0120\n",
      "Epoch 80/100\n",
      "867/867 [==============================] - 19s 22ms/step - loss: 0.0120\n",
      "Epoch 81/100\n",
      "867/867 [==============================] - 19s 22ms/step - loss: 0.0119\n",
      "Epoch 82/100\n",
      "867/867 [==============================] - 19s 22ms/step - loss: 0.0120\n",
      "Epoch 83/100\n",
      "867/867 [==============================] - 19s 22ms/step - loss: 0.0119\n",
      "Epoch 84/100\n",
      "867/867 [==============================] - 19s 22ms/step - loss: 0.0118\n",
      "Epoch 85/100\n",
      "867/867 [==============================] - 19s 22ms/step - loss: 0.0118\n",
      "Epoch 86/100\n",
      "867/867 [==============================] - 19s 22ms/step - loss: 0.0117\n",
      "Epoch 87/100\n",
      "867/867 [==============================] - 19s 22ms/step - loss: 0.0117\n",
      "Epoch 88/100\n",
      "867/867 [==============================] - 19s 22ms/step - loss: 0.0117\n",
      "Epoch 89/100\n",
      "867/867 [==============================] - 19s 22ms/step - loss: 0.0117\n",
      "Epoch 90/100\n",
      "867/867 [==============================] - 19s 22ms/step - loss: 0.0116\n",
      "Epoch 91/100\n",
      "867/867 [==============================] - 19s 22ms/step - loss: 0.0116\n",
      "Epoch 92/100\n",
      "867/867 [==============================] - 20s 23ms/step - loss: 0.0116\n",
      "Epoch 93/100\n",
      "867/867 [==============================] - 19s 22ms/step - loss: 0.0115\n",
      "Epoch 94/100\n",
      "867/867 [==============================] - 19s 22ms/step - loss: 0.0115\n",
      "Epoch 95/100\n",
      "867/867 [==============================] - 19s 22ms/step - loss: 0.0114\n",
      "Epoch 96/100\n",
      "867/867 [==============================] - 20s 23ms/step - loss: 0.0114\n",
      "Epoch 97/100\n",
      "867/867 [==============================] - 19s 22ms/step - loss: 0.0113\n",
      "Epoch 98/100\n",
      "867/867 [==============================] - 20s 23ms/step - loss: 0.0113\n",
      "Epoch 99/100\n",
      "867/867 [==============================] - 20s 23ms/step - loss: 0.0112\n",
      "Epoch 100/100\n",
      "867/867 [==============================] - 20s 23ms/step - loss: 0.0112\n",
      "WARNING:tensorflow:AutoGraph could not transform <function Model.make_predict_function.<locals>.predict_function at 0x000001E8AB7DD168> and will run it as-is.\n",
      "Please report this to the TensorFlow team. When filing the bug, set the verbosity to 10 (on Linux, `export AUTOGRAPH_VERBOSITY=10`) and attach the full output.\n",
      "Cause: 'arguments' object has no attribute 'posonlyargs'\n",
      "To silence this warning, decorate the function with @tf.autograph.experimental.do_not_convert\n",
      "WARNING: AutoGraph could not transform <function Model.make_predict_function.<locals>.predict_function at 0x000001E8AB7DD168> and will run it as-is.\n",
      "Please report this to the TensorFlow team. When filing the bug, set the verbosity to 10 (on Linux, `export AUTOGRAPH_VERBOSITY=10`) and attach the full output.\n",
      "Cause: 'arguments' object has no attribute 'posonlyargs'\n",
      "To silence this warning, decorate the function with @tf.autograph.experimental.do_not_convert\n"
     ]
    },
    {
     "data": {
      "text/plain": "<AxesSubplot:title={'center':'PROD'}, xlabel='Date'>"
     },
     "execution_count": 98,
     "metadata": {},
     "output_type": "execute_result"
    },
    {
     "data": {
      "text/plain": "<Figure size 432x288 with 1 Axes>",
      "image/png": "[encoded data removed]"
     },
     "metadata": {
      "needs_background": "light"
     },
     "output_type": "display_data"
    }
   ],
   "source": [
    "import numpy as np\n",
    "import pandas as pd\n",
    "import tensorflow as tf\n",
    "from tensorflow.keras.layers import Dense, LSTM\n",
    "from tensorflow.keras.models import Sequential\n",
    "from sklearn.preprocessing import MinMaxScaler\n",
    "pd.options.mode.chained_assignment = None\n",
    "tf.random.set_seed(0)\n",
    "\n",
    "# download the data\n",
    "y = hist['Courbe Moyenne n°1 + n°2 (Wh)'].fillna(method='ffill')\n",
    "y = y.values.reshape(-1, 1)\n",
    "\n",
    "# scale the data\n",
    "scaler = MinMaxScaler(feature_range=(0, 1))\n",
    "scaler = scaler.fit(y)\n",
    "y = scaler.transform(y)\n",
    "\n",
    "# generate the input and output sequences\n",
    "n_lookback = 24  # length of input sequences (lookback period)\n",
    "n_forecast = 30  # length of output sequences (forecast period)\n",
    "\n",
    "X = []\n",
    "Y = []\n",
    "\n",
    "for i in range(n_lookback, len(y) - n_forecast + 1):\n",
    "    X.append(y[i - n_lookback: i])\n",
    "    Y.append(y[i: i + n_forecast])\n",
    "\n",
    "X = np.array(X)\n",
    "Y = np.array(Y)\n",
    "\n",
    "# fit the model\n",
    "model = Sequential()\n",
    "model.add(LSTM(units=50, return_sequences=True, input_shape=(n_lookback, 1)))\n",
    "model.add(LSTM(units=50))\n",
    "model.add(Dense(n_forecast))\n",
    "\n",
    "model.compile(loss='mean_squared_error', optimizer='adam')\n",
    "model.fit(X, Y, epochs=100, batch_size=32, verbose=1)\n",
    "\n",
    "# generate the forecasts\n",
    "X_ = y[- n_lookback:]  # last available input sequence\n",
    "X_ = X_.reshape(1, n_lookback, 1)\n",
    "\n",
    "Y_ = model.predict(X_).reshape(-1, 1)\n",
    "Y_ = scaler.inverse_transform(Y_)\n",
    "\n",
    "# organize the results in a data frame\n",
    "df_past = hist[['Courbe Moyenne n°1 + n°2 (Wh)']].reset_index()\n",
    "df_past.rename(columns={'Horodate': 'Date', 'Courbe Moyenne n°1 + n°2 (Wh)': 'Actual'}, inplace=True)\n",
    "df_past['Date'] = pd.to_datetime(df_past['Date'])\n",
    "df_past['Forecast'] = np.nan\n",
    "df_past['Forecast'].iloc[-1] = df_past['Actual'].iloc[-1]\n",
    "\n",
    "df_future = pd.DataFrame(columns=['Date', 'Actual', 'Forecast'])\n",
    "df_future['Date'] = pd.date_range(start=df_past['Date'].iloc[-1] + pd.Timedelta(days=1), periods=n_forecast)\n",
    "df_future['Forecast'] = Y_.flatten()\n",
    "df_future['Actual'] = np.nan\n",
    "\n",
    "results = df_past.append(df_future).set_index('Date')\n",
    "\n",
    "# plot the results\n",
    "results.plot(title='PROD')"
   ],
   "metadata": {
    "collapsed": false,
    "pycharm": {
     "name": "#%%\n"
    }
   }
  },
  {
   "cell_type": "code",
   "execution_count": 104,
   "outputs": [
    {
     "data": {
      "text/plain": "<AxesSubplot:title={'center':'PROD'}, xlabel='Date'>"
     },
     "execution_count": 104,
     "metadata": {},
     "output_type": "execute_result"
    },
    {
     "data": {
      "text/plain": "<Figure size 432x288 with 1 Axes>",
      "image/png": "[encoded data removed]"
     },
     "metadata": {
      "needs_background": "light"
     },
     "output_type": "display_data"
    }
   ],
   "source": [
    "# generate the forecasts\n",
    "X_ = y[- n_lookback:]  # last available input sequence\n",
    "X_ = X_.reshape(1, n_lookback, 1)\n",
    "\n",
    "Y_ = model.predict(X_).reshape(-1, 1)\n",
    "Y_ = scaler.inverse_transform(Y_)\n",
    "\n",
    "# organize the results in a data frame\n",
    "df_past = hist[['Courbe Moyenne n°1 + n°2 (Wh)']].reset_index()\n",
    "df_past.rename(columns={'Horodate': 'Date', 'Courbe Moyenne n°1 + n°2 (Wh)': 'Actual'}, inplace=True)\n",
    "df_past['Date'] = pd.to_datetime(df_past['Date'])\n",
    "df_past['Forecast'] = np.nan\n",
    "df_past['Forecast'].iloc[-1] = df_past['Actual'].iloc[-1]\n",
    "\n",
    "df_future = pd.DataFrame(columns=['Date', 'Actual', 'Forecast'])\n",
    "df_future['Date'] = pd.date_range(start=df_past['Date'].iloc[-1] + pd.Timedelta(minutes=30), periods=n_forecast, freq='30min')\n",
    "df_future['Forecast'] = Y_.flatten()\n",
    "df_future['Actual'] = np.nan\n",
    "\n",
    "results = df_past.append(df_future).set_index('Date')\n",
    "\n",
    "# plot the results\n",
    "results.plot(title='PROD')"
   ],
   "metadata": {
    "collapsed": false,
    "pycharm": {
     "name": "#%%\n"
    }
   }
  },
  {
   "cell_type": "code",
   "execution_count": 105,
   "outputs": [
    {
     "data": {
      "text/plain": "                  Date  Actual      Forecast\n0  2021-12-31 23:00:00     NaN  2.532345e+04\n1  2021-12-31 23:30:00     NaN  9.147581e+04\n2  2022-01-01 00:00:00     NaN  9.545509e+04\n3  2022-01-01 00:30:00     NaN  1.131914e+05\n4  2022-01-01 01:00:00     NaN  9.285348e+04\n5  2022-01-01 01:30:00     NaN  8.572747e+04\n6  2022-01-01 02:00:00     NaN  1.119997e+05\n7  2022-01-01 02:30:00     NaN  1.038690e+05\n8  2022-01-01 03:00:00     NaN  6.769652e+04\n9  2022-01-01 03:30:00     NaN  2.120288e+04\n10 2022-01-01 04:00:00     NaN -2.148964e+04\n11 2022-01-01 04:30:00     NaN -8.198631e+04\n12 2022-01-01 05:00:00     NaN -1.039362e+05\n13 2022-01-01 05:30:00     NaN -9.038383e+04\n14 2022-01-01 06:00:00     NaN -5.013604e+03\n15 2022-01-01 06:30:00     NaN  1.595280e+05\n16 2022-01-01 07:00:00     NaN  4.457809e+05\n17 2022-01-01 07:30:00     NaN  8.445965e+05\n18 2022-01-01 08:00:00     NaN  1.327804e+06\n19 2022-01-01 08:30:00     NaN  1.835233e+06\n20 2022-01-01 09:00:00     NaN  2.365495e+06\n21 2022-01-01 09:30:00     NaN  2.856987e+06\n22 2022-01-01 10:00:00     NaN  3.320428e+06\n23 2022-01-01 10:30:00     NaN  3.703820e+06\n24 2022-01-01 11:00:00     NaN  3.971323e+06\n25 2022-01-01 11:30:00     NaN  4.139790e+06\n26 2022-01-01 12:00:00     NaN  4.161192e+06\n27 2022-01-01 12:30:00     NaN  3.951480e+06\n28 2022-01-01 13:00:00     NaN  3.625070e+06\n29 2022-01-01 13:30:00     NaN  3.174152e+06",
      "text/html": "<div>\n<style scoped>\n    .dataframe tbody tr th:only-of-type {\n        vertical-align: middle;\n    }\n\n    .dataframe tbody tr th {\n        vertical-align: top;\n    }\n\n    .dataframe thead th {\n        text-align: right;\n    }\n</style>\n<table border=\"1\" class=\"dataframe\">\n  <thead>\n    <tr style=\"text-align: right;\">\n      <th></th>\n      <th>Date</th>\n      <th>Actual</th>\n      <th>Forecast</th>\n    </tr>\n  </thead>\n  <tbody>\n    <tr>\n      <th>0</th>\n      <td>2021-12-31 23:00:00</td>\n      <td>NaN</td>\n      <td>2.532345e+04</td>\n    </tr>\n    <tr>\n      <th>1</th>\n      <td>2021-12-31 23:30:00</td>\n      <td>NaN</td>\n      <td>9.147581e+04</td>\n    </tr>\n    <tr>\n      <th>2</th>\n      <td>2022-01-01 00:00:00</td>\n      <td>NaN</td>\n      <td>9.545509e+04</td>\n    </tr>\n    <tr>\n      <th>3</th>\n      <td>2022-01-01 00:30:00</td>\n      <td>NaN</td>\n      <td>1.131914e+05</td>\n    </tr>\n    <tr>\n      <th>4</th>\n      <td>2022-01-01 01:00:00</td>\n      <td>NaN</td>\n      <td>9.285348e+04</td>\n    </tr>\n    <tr>\n      <th>5</th>\n      <td>2022-01-01 01:30:00</td>\n      <td>NaN</td>\n      <td>8.572747e+04</td>\n    </tr>\n    <tr>\n      <th>6</th>\n      <td>2022-01-01 02:00:00</td>\n      <td>NaN</td>\n      <td>1.119997e+05</td>\n    </tr>\n    <tr>\n      <th>7</th>\n      <td>2022-01-01 02:30:00</td>\n      <td>NaN</td>\n      <td>1.038690e+05</td>\n    </tr>\n    <tr>\n      <th>8</th>\n      <td>2022-01-01 03:00:00</td>\n      <td>NaN</td>\n      <td>6.769652e+04</td>\n    </tr>\n    <tr>\n      <th>9</th>\n      <td>2022-01-01 03:30:00</td>\n      <td>NaN</td>\n      <td>2.120288e+04</td>\n    </tr>\n    <tr>\n      <th>10</th>\n      <td>2022-01-01 04:00:00</td>\n      <td>NaN</td>\n      <td>-2.148964e+04</td>\n    </tr>\n    <tr>\n      <th>11</th>\n      <td>2022-01-01 04:30:00</td>\n      <td>NaN</td>\n      <td>-8.198631e+04</td>\n    </tr>\n    <tr>\n      <th>12</th>\n      <td>2022-01-01 05:00:00</td>\n      <td>NaN</td>\n      <td>-1.039362e+05</td>\n    </tr>\n    <tr>\n      <th>13</th>\n      <td>2022-01-01 05:30:00</td>\n      <td>NaN</td>\n      <td>-9.038383e+04</td>\n    </tr>\n    <tr>\n      <th>14</th>\n      <td>2022-01-01 06:00:00</td>\n      <td>NaN</td>\n      <td>-5.013604e+03</td>\n    </tr>\n    <tr>\n      <th>15</th>\n      <td>2022-01-01 06:30:00</td>\n      <td>NaN</td>\n      <td>1.595280e+05</td>\n    </tr>\n    <tr>\n      <th>16</th>\n      <td>2022-01-01 07:00:00</td>\n      <td>NaN</td>\n      <td>4.457809e+05</td>\n    </tr>\n    <tr>\n      <th>17</th>\n      <td>2022-01-01 07:30:00</td>\n      <td>NaN</td>\n      <td>8.445965e+05</td>\n    </tr>\n    <tr>\n      <th>18</th>\n      <td>2022-01-01 08:00:00</td>\n      <td>NaN</td>\n      <td>1.327804e+06</td>\n    </tr>\n    <tr>\n      <th>19</th>\n      <td>2022-01-01 08:30:00</td>\n      <td>NaN</td>\n      <td>1.835233e+06</td>\n    </tr>\n    <tr>\n      <th>20</th>\n      <td>2022-01-01 09:00:00</td>\n      <td>NaN</td>\n      <td>2.365495e+06</td>\n    </tr>\n    <tr>\n      <th>21</th>\n      <td>2022-01-01 09:30:00</td>\n      <td>NaN</td>\n      <td>2.856987e+06</td>\n    </tr>\n    <tr>\n      <th>22</th>\n      <td>2022-01-01 10:00:00</td>\n      <td>NaN</td>\n      <td>3.320428e+06</td>\n    </tr>\n    <tr>\n      <th>23</th>\n      <td>2022-01-01 10:30:00</td>\n      <td>NaN</td>\n      <td>3.703820e+06</td>\n    </tr>\n    <tr>\n      <th>24</th>\n      <td>2022-01-01 11:00:00</td>\n      <td>NaN</td>\n      <td>3.971323e+06</td>\n    </tr>\n    <tr>\n      <th>25</th>\n      <td>2022-01-01 11:30:00</td>\n      <td>NaN</td>\n      <td>4.139790e+06</td>\n    </tr>\n    <tr>\n      <th>26</th>\n      <td>2022-01-01 12:00:00</td>\n      <td>NaN</td>\n      <td>4.161192e+06</td>\n    </tr>\n    <tr>\n      <th>27</th>\n      <td>2022-01-01 12:30:00</td>\n      <td>NaN</td>\n      <td>3.951480e+06</td>\n    </tr>\n    <tr>\n      <th>28</th>\n      <td>2022-01-01 13:00:00</td>\n      <td>NaN</td>\n      <td>3.625070e+06</td>\n    </tr>\n    <tr>\n      <th>29</th>\n      <td>2022-01-01 13:30:00</td>\n      <td>NaN</td>\n      <td>3.174152e+06</td>\n    </tr>\n  </tbody>\n</table>\n</div>"
     },
     "execution_count": 105,
     "metadata": {},
     "output_type": "execute_result"
    }
   ],
   "source": [
    "df_future"
   ],
   "metadata": {
    "collapsed": false,
    "pycharm": {
     "name": "#%%\n"
    }
   }
  },
  {
   "cell_type": "code",
   "execution_count": null,
   "outputs": [],
   "source": [
    "# Create a function that given an array of number and a number, return the closest number within the array\n",
    "\n"
   ],
   "metadata": {
    "collapsed": false,
    "pycharm": {
     "name": "#%%\n"
    }
   }
  }
 ],
 "metadata": {
  "kernelspec": {
   "display_name": "Python 3",
   "language": "python",
   "name": "python3"
  },
  "language_info": {
   "codemirror_mode": {
    "name": "ipython",
    "version": 2
   },
   "file_extension": ".py",
   "mimetype": "text/x-python",
   "name": "python",
   "nbconvert_exporter": "python",
   "pygments_lexer": "ipython2",
   "version": "2.7.6"
  }
 },
 "nbformat": 4,
 "nbformat_minor": 0
}